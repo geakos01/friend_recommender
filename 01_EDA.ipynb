{
 "cells": [
  {
   "cell_type": "code",
   "execution_count": 3,
   "metadata": {
    "collapsed": true,
    "ExecuteTime": {
     "end_time": "2023-12-09T15:42:03.956516100Z",
     "start_time": "2023-12-09T15:42:03.588500800Z"
    }
   },
   "outputs": [],
   "source": [
    "import numpy as np\n",
    "import matplotlib.pyplot as plt\n",
    "import plotly.graph_objects as go\n",
    "import networkx as nx"
   ]
  },
  {
   "cell_type": "code",
   "execution_count": 4,
   "outputs": [],
   "source": [
    "# a facebook mappába pakoljátok majd a fájlokat pls a projekten belül, azt nem rakom fel gitre\n",
    "edge_path = 'facebook/0.edges'"
   ],
   "metadata": {
    "collapsed": false,
    "ExecuteTime": {
     "end_time": "2023-12-09T15:42:06.313795400Z",
     "start_time": "2023-12-09T15:42:06.286824200Z"
    }
   }
  },
  {
   "cell_type": "markdown",
   "source": [
    "## Load Data"
   ],
   "metadata": {
    "collapsed": false
   }
  },
  {
   "cell_type": "code",
   "execution_count": 5,
   "outputs": [],
   "source": [
    "# Beolvasom a fájlt\n",
    "with open(edge_path, 'rt') as file:\n",
    "    text = file.read()\n",
    "\n",
    "# Feldolgozom a sorokat\n",
    "connections = []\n",
    "from_list = []\n",
    "to_list = []\n",
    "for row in text.split('\\n')[:-1]:\n",
    "    a, b = [int(x) for x in row.split(' ')]\n",
    "    connections.append((a, b))\n",
    "\n",
    "    from_list.append(a)\n",
    "    to_list.append(b)"
   ],
   "metadata": {
    "collapsed": false,
    "ExecuteTime": {
     "end_time": "2023-12-09T15:42:06.647971100Z",
     "start_time": "2023-12-09T15:42:06.610032200Z"
    }
   }
  },
  {
   "cell_type": "code",
   "execution_count": 6,
   "outputs": [
    {
     "name": "stdout",
     "output_type": "stream",
     "text": [
      "Smallest id: 1\n",
      "Biggest id: 347\n",
      "Count of ids: 333\n"
     ]
    }
   ],
   "source": [
    "ids = set(from_list).union(set(to_list))\n",
    "print(f'Smallest id: {min(ids)}')\n",
    "print(f'Biggest id: {max(ids)}')\n",
    "print(f'Count of ids: {len(ids)}')"
   ],
   "metadata": {
    "collapsed": false,
    "ExecuteTime": {
     "end_time": "2023-12-09T15:42:06.817476300Z",
     "start_time": "2023-12-09T15:42:06.771600100Z"
    }
   }
  },
  {
   "cell_type": "markdown",
   "source": [
    "## Create Connection Matrix"
   ],
   "metadata": {
    "collapsed": false
   }
  },
  {
   "cell_type": "code",
   "execution_count": 7,
   "outputs": [],
   "source": [
    "# The graph edges are not continuous, so we need to map them to a continuous range\n",
    "id_mapper = {}\n",
    "reverse_id_mapper = {}\n",
    "counter = 0\n",
    "for elem in from_list:\n",
    "    if elem not in id_mapper.values():\n",
    "        id_mapper[counter] = elem\n",
    "        reverse_id_mapper[elem] = counter\n",
    "        counter += 1\n",
    "\n",
    "for elem in to_list:\n",
    "    if elem not in id_mapper.values():\n",
    "        id_mapper[counter] = elem\n",
    "        reverse_id_mapper[elem] = counter\n",
    "        counter += 1"
   ],
   "metadata": {
    "collapsed": false,
    "ExecuteTime": {
     "end_time": "2023-12-09T15:42:07.131635500Z",
     "start_time": "2023-12-09T15:42:07.123658500Z"
    }
   }
  },
  {
   "cell_type": "code",
   "execution_count": 8,
   "outputs": [
    {
     "name": "stdout",
     "output_type": "stream",
     "text": [
      "The matrix is symmetric.\n"
     ]
    }
   ],
   "source": [
    "# Check whether the mapping is correct\n",
    "array_size = max(reverse_id_mapper.keys())\n",
    "A = np.zeros((array_size, array_size))\n",
    "\n",
    "for first, second in connections:\n",
    "    A[reverse_id_mapper[first], reverse_id_mapper[second]] = 1\n",
    "\n",
    "# Csekkolom, hogy szimmetrikus-e, elméletileg annak kell lennie\n",
    "is_symmetric = np.allclose(A, A.T)\n",
    "\n",
    "if is_symmetric:\n",
    "    print(\"The matrix is symmetric.\")\n",
    "else:\n",
    "    print(\"The matrix is not symmetric.\")"
   ],
   "metadata": {
    "collapsed": false,
    "ExecuteTime": {
     "end_time": "2023-12-09T15:42:07.320132700Z",
     "start_time": "2023-12-09T15:42:07.274255Z"
    }
   }
  },
  {
   "cell_type": "code",
   "execution_count": 9,
   "outputs": [
    {
     "data": {
      "text/plain": "<Figure size 640x480 with 1 Axes>",
      "image/png": "[encoded data removed]"
     },
     "metadata": {},
     "output_type": "display_data"
    }
   ],
   "source": [
    "# Check the number of connections for each node\n",
    "degrees = A.sum(axis = 0)\n",
    "\n",
    "plt.hist(degrees, bins=30)\n",
    "plt.title(\"Neighbor Distribution\");"
   ],
   "metadata": {
    "collapsed": false,
    "ExecuteTime": {
     "end_time": "2023-12-09T15:42:07.939644700Z",
     "start_time": "2023-12-09T15:42:07.455769300Z"
    }
   }
  },
  {
   "cell_type": "code",
   "execution_count": null,
   "outputs": [],
   "source": [
    "# Visualize the graph\n",
    "def visualize_graph(graph):\n",
    "    G = nx.Graph(graph)\n",
    "\n",
    "    pos = nx.spring_layout(G)\n",
    "\n",
    "    # Create edges and nodes\n",
    "    edge_trace = go.Scatter(\n",
    "        x=[],\n",
    "        y=[],\n",
    "        line=dict(width=0.5, color='#888'),\n",
    "        hoverinfo='none',\n",
    "        mode='lines')\n",
    "\n",
    "    node_trace = go.Scatter(\n",
    "        x=[],\n",
    "        y=[],\n",
    "        text=[],\n",
    "        mode='markers',\n",
    "        hoverinfo='text',\n",
    "        marker=dict(\n",
    "            showscale=True,\n",
    "            colorscale='YlGnBu',\n",
    "            size=10,\n",
    "        )\n",
    "    )\n",
    "\n",
    "    for edge in G.edges():\n",
    "        x0, y0 = pos[edge[0]]\n",
    "        x1, y1 = pos[edge[1]]\n",
    "        edge_trace['x'] += tuple([x0, x1, None])\n",
    "        edge_trace['y'] += tuple([y0, y1, None])\n",
    "\n",
    "    for node in G.nodes():\n",
    "        x, y = pos[node]\n",
    "        node_trace['x'] += tuple([x])\n",
    "        node_trace['y'] += tuple([y])\n",
    "\n",
    "    fig = go.Figure(data=[edge_trace, node_trace],\n",
    "                    layout=go.Layout(\n",
    "                        showlegend=False,\n",
    "                        hovermode='closest',\n",
    "                        margin=dict(b=0,l=0,r=0,t=0)))\n",
    "\n",
    "    fig.show()\n",
    "\n",
    "visualize_graph(A)"
   ],
   "metadata": {
    "collapsed": false,
    "is_executing": true,
    "ExecuteTime": {
     "start_time": "2023-12-09T15:42:07.940643500Z"
    }
   }
  }
 ],
 "metadata": {
  "kernelspec": {
   "display_name": "Python 3",
   "language": "python",
   "name": "python3"
  },
  "language_info": {
   "codemirror_mode": {
    "name": "ipython",
    "version": 2
   },
   "file_extension": ".py",
   "mimetype": "text/x-python",
   "name": "python",
   "nbconvert_exporter": "python",
   "pygments_lexer": "ipython2",
   "version": "2.7.6"
  }
 },
 "nbformat": 4,
 "nbformat_minor": 0
}
