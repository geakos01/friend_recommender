{
 "cells": [
  {
   "cell_type": "code",
   "execution_count": 68,
   "metadata": {
    "collapsed": true
   },
   "outputs": [],
   "source": [
    "from stellargraph.data import EdgeSplitter\n",
    "import stellargraph as sg\n",
    "import numpy as np\n",
    "from sklearn.model_selection import train_test_split\n",
    "import multiprocessing\n",
    "import plotly.graph_objects as go\n",
    "from sklearn.metrics import accuracy_score\n",
    "import networkx as nx\n",
    "import plotly.graph_objs as go\n",
    "from sklearn.pipeline import Pipeline\n",
    "from sklearn.linear_model import LogisticRegressionCV\n",
    "from stellargraph.data import BiasedRandomWalk\n",
    "from gensim.models import Word2Vec\n",
    "from sklearn.preprocessing import StandardScaler\n",
    "import pandas as pd\n",
    "from sklearn.metrics import roc_curve, roc_auc_score\n",
    "import matplotlib.pyplot as plt\n",
    "import pickle"
   ]
  },
  {
   "cell_type": "markdown",
   "source": [
    "## Constansok"
   ],
   "metadata": {
    "collapsed": false
   }
  },
  {
   "cell_type": "code",
   "execution_count": 69,
   "outputs": [],
   "source": [
    "# ['0', '107']\n",
    "edge_path = 'facebook/0.edges' # 0.edges"
   ],
   "metadata": {
    "collapsed": false
   }
  },
  {
   "cell_type": "markdown",
   "source": [
    "## Gráf Beolvasása"
   ],
   "metadata": {
    "collapsed": false
   }
  },
  {
   "cell_type": "code",
   "execution_count": 70,
   "outputs": [],
   "source": [
    "def is_directed_graph(graph):\n",
    "\n",
    "    adjacency_matrix = nx.to_numpy_array(graph)\n",
    "    A = np.array(adjacency_matrix)\n",
    "\n",
    "    # Csekkolom, hogy szimmetrikus-e, elméletileg annak kell lennie\n",
    "    is_symmetric = np.allclose(A, A.T)\n",
    "\n",
    "    if is_symmetric:\n",
    "        print(\"The matrix is symmetric, not directed\")\n",
    "    else:\n",
    "        print(\"The matrix is not symmetric.\")\n",
    "\n",
    "def print_graph_info(G):\n",
    "    text = G.info()\n",
    "    print(text)"
   ],
   "metadata": {
    "collapsed": false
   }
  },
  {
   "cell_type": "code",
   "execution_count": 71,
   "outputs": [],
   "source": [
    "G = nx.read_edgelist(edge_path, nodetype=int, create_using=nx.Graph())\n",
    "for edge in G.edges():\n",
    "    G[edge[0]][edge[1]]['weight'] = 1\n",
    "\n",
    "# is_directed_graph(G)\n",
    "# Castolás StellarGraph-ra, ment ebben találtam hasznos függvényeket\n",
    "G = sg.StellarGraph.from_networkx(G)"
   ],
   "metadata": {
    "collapsed": false
   }
  },
  {
   "cell_type": "code",
   "execution_count": 72,
   "outputs": [
    {
     "name": "stdout",
     "output_type": "stream",
     "text": [
      "StellarGraph: Undirected multigraph\n",
      " Nodes: 333, Edges: 2519\n",
      "\n",
      " Node types:\n",
      "  default: [333]\n",
      "    Features: none\n",
      "    Edge types: default-default->default\n",
      "\n",
      " Edge types:\n",
      "    default-default->default: [2519]\n",
      "        Weights: all 1 (default)\n",
      "        Features: none\n"
     ]
    }
   ],
   "source": [
    "print_graph_info(G)"
   ],
   "metadata": {
    "collapsed": false
   }
  },
  {
   "cell_type": "code",
   "execution_count": 73,
   "outputs": [],
   "source": [
    "edge_splitter_test = EdgeSplitter(G)"
   ],
   "metadata": {
    "collapsed": false
   }
  },
  {
   "cell_type": "code",
   "execution_count": 74,
   "outputs": [
    {
     "name": "stdout",
     "output_type": "stream",
     "text": [
      "** Sampled 251 positive and 251 negative edges. **\n"
     ]
    }
   ],
   "source": [
    "# Itt az edge_splitter tesztből vesz éleket, ezeket az examples_test,\n",
    "# Majd vesz negatív éleket is, ezt szintén hozzárakja az examples_test-hez concatolva,\n",
    "# a labels test az, hogy ez az él létezik-e vagy sem\n",
    "# a graph test a gráf a maradék éllel\n",
    "graph_test, examples_test, labels_test = edge_splitter_test.train_test_split(p=0.1, method=\"global\")"
   ],
   "metadata": {
    "collapsed": false
   }
  },
  {
   "cell_type": "code",
   "execution_count": 75,
   "outputs": [
    {
     "name": "stdout",
     "output_type": "stream",
     "text": [
      "StellarGraph: Undirected multigraph\n",
      " Nodes: 333, Edges: 2268\n",
      "\n",
      " Node types:\n",
      "  default: [333]\n",
      "    Features: none\n",
      "    Edge types: default-default->default\n",
      "\n",
      " Edge types:\n",
      "    default-default->default: [2268]\n",
      "        Weights: all 1 (default)\n",
      "        Features: none\n"
     ]
    }
   ],
   "source": [
    "print_graph_info(graph_test)"
   ],
   "metadata": {
    "collapsed": false
   }
  },
  {
   "cell_type": "code",
   "execution_count": 76,
   "outputs": [
    {
     "name": "stdout",
     "output_type": "stream",
     "text": [
      "** Sampled 226 positive and 226 negative edges. **\n"
     ]
    }
   ],
   "source": [
    "edge_splitter_train = EdgeSplitter(g=graph_test, g_master=G)\n",
    "graph_train, examples, labels = edge_splitter_train.train_test_split(p=0.1, method=\"global\")\n",
    "\n",
    "\n",
    "\n",
    "(examples_train, examples_model_selection, labels_train, labels_model_selection,)\\\n",
    "                                        = train_test_split(examples, labels, train_size=0.75, test_size=0.25)"
   ],
   "metadata": {
    "collapsed": false
   }
  },
  {
   "cell_type": "code",
   "execution_count": 77,
   "outputs": [
    {
     "name": "stdout",
     "output_type": "stream",
     "text": [
      "StellarGraph: Undirected multigraph\n",
      " Nodes: 333, Edges: 2042\n",
      "\n",
      " Node types:\n",
      "  default: [333]\n",
      "    Features: none\n",
      "    Edge types: default-default->default\n",
      "\n",
      " Edge types:\n",
      "    default-default->default: [2042]\n",
      "        Weights: all 1 (default)\n",
      "        Features: none\n"
     ]
    }
   ],
   "source": [
    "print_graph_info(graph_train)"
   ],
   "metadata": {
    "collapsed": false
   }
  },
  {
   "cell_type": "code",
   "execution_count": 78,
   "outputs": [
    {
     "data": {
      "text/plain": "                 Number of Examples  Hidden from Picked from  \\\nSplit                                                          \nTraining Set                    339  Train Graph  Test Graph   \nModel Selection                 113  Train Graph  Test Graph   \nTest set                        502   Test Graph  Full Graph   \n\n                                                   Use  \nSplit                                                   \nTraining Set                 Train the Link Classifier  \nModel Selection  Select the best Link Classifier model  \nTest set             Evaluate the best Link Classifier  ",
      "text/html": "<div>\n<style scoped>\n    .dataframe tbody tr th:only-of-type {\n        vertical-align: middle;\n    }\n\n    .dataframe tbody tr th {\n        vertical-align: top;\n    }\n\n    .dataframe thead th {\n        text-align: right;\n    }\n</style>\n<table border=\"1\" class=\"dataframe\">\n  <thead>\n    <tr style=\"text-align: right;\">\n      <th></th>\n      <th>Number of Examples</th>\n      <th>Hidden from</th>\n      <th>Picked from</th>\n      <th>Use</th>\n    </tr>\n    <tr>\n      <th>Split</th>\n      <th></th>\n      <th></th>\n      <th></th>\n      <th></th>\n    </tr>\n  </thead>\n  <tbody>\n    <tr>\n      <th>Training Set</th>\n      <td>339</td>\n      <td>Train Graph</td>\n      <td>Test Graph</td>\n      <td>Train the Link Classifier</td>\n    </tr>\n    <tr>\n      <th>Model Selection</th>\n      <td>113</td>\n      <td>Train Graph</td>\n      <td>Test Graph</td>\n      <td>Select the best Link Classifier model</td>\n    </tr>\n    <tr>\n      <th>Test set</th>\n      <td>502</td>\n      <td>Test Graph</td>\n      <td>Full Graph</td>\n      <td>Evaluate the best Link Classifier</td>\n    </tr>\n  </tbody>\n</table>\n</div>"
     },
     "execution_count": 78,
     "metadata": {},
     "output_type": "execute_result"
    }
   ],
   "source": [
    "pd.DataFrame(\n",
    "    [\n",
    "        (\n",
    "            \"Training Set\",\n",
    "            len(examples_train),\n",
    "            \"Train Graph\",\n",
    "            \"Test Graph\",\n",
    "            \"Train the Link Classifier\",\n",
    "        ),\n",
    "        (\n",
    "            \"Model Selection\",\n",
    "            len(examples_model_selection),\n",
    "            \"Train Graph\",\n",
    "            \"Test Graph\",\n",
    "            \"Select the best Link Classifier model\",\n",
    "        ),\n",
    "        (\n",
    "            \"Test set\",\n",
    "            len(examples_test),\n",
    "            \"Test Graph\",\n",
    "            \"Full Graph\",\n",
    "            \"Evaluate the best Link Classifier\",\n",
    "        ),\n",
    "    ],\n",
    "    columns=(\"Split\", \"Number of Examples\", \"Hidden from\", \"Picked from\", \"Use\"),\n",
    ").set_index(\"Split\")"
   ],
   "metadata": {
    "collapsed": false
   }
  },
  {
   "cell_type": "code",
   "execution_count": 79,
   "outputs": [],
   "source": [
    "p = 1.0\n",
    "q = 1.0\n",
    "dimensions = 128\n",
    "num_walks = 60\n",
    "walk_length = 60\n",
    "window_size = 16\n",
    "num_iter = 5\n",
    "workers = multiprocessing.cpu_count()"
   ],
   "metadata": {
    "collapsed": false
   }
  },
  {
   "cell_type": "code",
   "execution_count": 80,
   "outputs": [],
   "source": [
    "def node2vec_embedding(graph, name):\n",
    "    rw = BiasedRandomWalk(graph)\n",
    "    walks = rw.run(graph.nodes(), n=num_walks, length=walk_length, p=p, q=q)\n",
    "    print(f\"Number of random walks for '{name}': {len(walks)}\")\n",
    "\n",
    "    model = Word2Vec(\n",
    "        walks,\n",
    "        vector_size=dimensions,\n",
    "        window=window_size,\n",
    "        min_count=0,\n",
    "        sg=1,\n",
    "        workers=workers,\n",
    "        epochs=num_iter,\n",
    "    )\n",
    "\n",
    "    def get_embedding(u):\n",
    "        return model.wv[u]\n",
    "\n",
    "    return get_embedding"
   ],
   "metadata": {
    "collapsed": false
   }
  },
  {
   "cell_type": "code",
   "execution_count": 81,
   "outputs": [
    {
     "name": "stdout",
     "output_type": "stream",
     "text": [
      "Number of random walks for 'Train Graph': 19980\n"
     ]
    }
   ],
   "source": [
    "embedding_train = node2vec_embedding(graph_train, \"Train Graph\")"
   ],
   "metadata": {
    "collapsed": false
   }
  },
  {
   "cell_type": "code",
   "execution_count": 82,
   "outputs": [],
   "source": [
    "# 1. link embeddings\n",
    "def link_examples_to_features(link_examples, transform_node, binary_operator):\n",
    "    return [\n",
    "        binary_operator(transform_node(src), transform_node(dst))\n",
    "        for src, dst in link_examples\n",
    "    ]\n",
    "\n",
    "# 2. training classifier\n",
    "def train_link_prediction_model(\n",
    "        link_examples, link_labels, get_embedding, binary_operator\n",
    "):\n",
    "    # Ezt akár lehet módosítani is más algoritmussal\n",
    "    clf = link_prediction_classifier()\n",
    "\n",
    "    # Itt távolságot számol a start és end pont embeddingje között\n",
    "    link_features = link_examples_to_features(\n",
    "        link_examples, get_embedding, binary_operator\n",
    "    )\n",
    "    # Majd arra fitteli a modelt\n",
    "    clf.fit(link_features, link_labels)\n",
    "    return clf\n",
    "\n",
    "\n",
    "def link_prediction_classifier(max_iter=4000):\n",
    "    lr_clf = LogisticRegressionCV(Cs=10, cv=10, scoring=\"roc_auc\", max_iter=max_iter)\n",
    "    return Pipeline(steps=[(\"sc\", StandardScaler()), (\"clf\", lr_clf)])\n",
    "\n",
    "\n",
    "# 3. and 4. evaluate classifier\n",
    "def evaluate_link_prediction_model(\n",
    "        clf, link_examples_test, link_labels_test, get_embedding, binary_operator\n",
    "):\n",
    "    link_features_test = link_examples_to_features(\n",
    "        link_examples_test, get_embedding, binary_operator\n",
    "    )\n",
    "    score = evaluate_roc_auc(clf, link_features_test, link_labels_test)\n",
    "    return score\n",
    "\n",
    "\n",
    "def evaluate_roc_auc(clf, link_features, link_labels):\n",
    "    predicted = clf.predict_proba(link_features)\n",
    "\n",
    "    # check which class corresponds to positive links\n",
    "    positive_column = list(clf.classes_).index(1)\n",
    "    return roc_auc_score(link_labels, predicted[:, positive_column])"
   ],
   "metadata": {
    "collapsed": false
   }
  },
  {
   "cell_type": "code",
   "execution_count": 83,
   "outputs": [],
   "source": [
    "def operator_hadamard(u, v):\n",
    "    return u * v\n",
    "\n",
    "\n",
    "def operator_l1(u, v):\n",
    "    return np.abs(u - v)\n",
    "\n",
    "\n",
    "def operator_l2(u, v):\n",
    "    return (u - v) ** 2\n",
    "\n",
    "\n",
    "def operator_avg(u, v):\n",
    "    return (u + v) / 2.0\n",
    "\n",
    "\n",
    "def run_link_prediction(binary_operator):\n",
    "    clf = train_link_prediction_model(\n",
    "        examples_train, labels_train, embedding_train, binary_operator\n",
    "    )\n",
    "    score = evaluate_link_prediction_model(\n",
    "        clf,\n",
    "        examples_model_selection,\n",
    "        labels_model_selection,\n",
    "        embedding_train,\n",
    "        binary_operator,\n",
    "    )\n",
    "\n",
    "    return {\n",
    "        \"classifier\": clf,\n",
    "        \"binary_operator\": binary_operator,\n",
    "        \"score\": score,\n",
    "    }\n",
    "\n",
    "binary_operators = [operator_hadamard, operator_l1, operator_l2, operator_avg]"
   ],
   "metadata": {
    "collapsed": false
   }
  },
  {
   "cell_type": "code",
   "execution_count": 84,
   "outputs": [
    {
     "name": "stdout",
     "output_type": "stream",
     "text": [
      "Best result from 'operator_l2'\n"
     ]
    },
    {
     "data": {
      "text/plain": "                   ROC AUC score\nname                            \noperator_hadamard       0.906270\noperator_l1             0.962069\noperator_l2             0.965204\noperator_avg            0.782759",
      "text/html": "<div>\n<style scoped>\n    .dataframe tbody tr th:only-of-type {\n        vertical-align: middle;\n    }\n\n    .dataframe tbody tr th {\n        vertical-align: top;\n    }\n\n    .dataframe thead th {\n        text-align: right;\n    }\n</style>\n<table border=\"1\" class=\"dataframe\">\n  <thead>\n    <tr style=\"text-align: right;\">\n      <th></th>\n      <th>ROC AUC score</th>\n    </tr>\n    <tr>\n      <th>name</th>\n      <th></th>\n    </tr>\n  </thead>\n  <tbody>\n    <tr>\n      <th>operator_hadamard</th>\n      <td>0.906270</td>\n    </tr>\n    <tr>\n      <th>operator_l1</th>\n      <td>0.962069</td>\n    </tr>\n    <tr>\n      <th>operator_l2</th>\n      <td>0.965204</td>\n    </tr>\n    <tr>\n      <th>operator_avg</th>\n      <td>0.782759</td>\n    </tr>\n  </tbody>\n</table>\n</div>"
     },
     "execution_count": 84,
     "metadata": {},
     "output_type": "execute_result"
    }
   ],
   "source": [
    "results = [run_link_prediction(op) for op in binary_operators]\n",
    "best_result = max(results, key=lambda result: result[\"score\"])\n",
    "\n",
    "print(f\"Best result from '{best_result['binary_operator'].__name__}'\")\n",
    "\n",
    "pd.DataFrame(\n",
    "    [(result[\"binary_operator\"].__name__, result[\"score\"]) for result in results],\n",
    "    columns=(\"name\", \"ROC AUC score\"),\n",
    ").set_index(\"name\")"
   ],
   "metadata": {
    "collapsed": false
   }
  },
  {
   "cell_type": "code",
   "execution_count": 85,
   "outputs": [
    {
     "name": "stdout",
     "output_type": "stream",
     "text": [
      "Number of random walks for 'Test Graph': 19980\n"
     ]
    }
   ],
   "source": [
    "embedding_test = node2vec_embedding(graph_test, \"Test Graph\")"
   ],
   "metadata": {
    "collapsed": false
   }
  },
  {
   "cell_type": "code",
   "execution_count": 86,
   "outputs": [
    {
     "name": "stdout",
     "output_type": "stream",
     "text": [
      "ROC AUC score on test set using 'operator_l2': 0.9456040380311423\n"
     ]
    }
   ],
   "source": [
    "test_score = evaluate_link_prediction_model(\n",
    "    best_result[\"classifier\"],\n",
    "    examples_test,\n",
    "    labels_test,\n",
    "    embedding_test,\n",
    "    best_result[\"binary_operator\"],\n",
    ")\n",
    "print(\n",
    "    f\"ROC AUC score on test set using '{best_result['binary_operator'].__name__}': {test_score}\"\n",
    ")"
   ],
   "metadata": {
    "collapsed": false
   }
  },
  {
   "cell_type": "code",
   "execution_count": 87,
   "outputs": [
    {
     "data": {
      "text/plain": "<matplotlib.collections.PathCollection at 0x16a9d1c55e0>"
     },
     "execution_count": 87,
     "metadata": {},
     "output_type": "execute_result"
    },
    {
     "data": {
      "text/plain": "<Figure size 1600x1200 with 1 Axes>",
      "image/png": "[encoded data removed]"
     },
     "metadata": {},
     "output_type": "display_data"
    }
   ],
   "source": [
    "from sklearn.decomposition import PCA\n",
    "\n",
    "# Calculate edge features for test data\n",
    "link_features = link_examples_to_features(\n",
    "    examples_test, embedding_test, best_result[\"binary_operator\"]\n",
    ")\n",
    "\n",
    "# Learn a projection from 128 dimensions to 2\n",
    "pca = PCA(n_components=2)\n",
    "X_transformed = pca.fit_transform(link_features)\n",
    "\n",
    "# plot the 2-dimensional points\n",
    "plt.figure(figsize=(16, 12))\n",
    "plt.scatter(\n",
    "    X_transformed[:, 0],\n",
    "    X_transformed[:, 1],\n",
    "    c=np.where(labels_test == 1, \"b\", \"r\"),\n",
    "    alpha=0.5,\n",
    ")"
   ],
   "metadata": {
    "collapsed": false
   }
  },
  {
   "cell_type": "code",
   "execution_count": 88,
   "outputs": [],
   "source": [
    "user = 2 #322\n",
    "\n",
    "possible_connections = []\n",
    "\n",
    "for node in G.nodes():\n",
    "    if node != user:\n",
    "        possible_connections.append((user, node))"
   ],
   "metadata": {
    "collapsed": false
   }
  },
  {
   "cell_type": "code",
   "execution_count": 89,
   "outputs": [],
   "source": [
    "existing_connections = {}\n",
    "for (start, end ) in possible_connections:\n",
    "    if (start, end) in G.edges() or (end, start) in G.edges():\n",
    "        existing_connections[(start, end)] = 1\n",
    "    else:\n",
    "        existing_connections[(start, end)] = 0"
   ],
   "metadata": {
    "collapsed": false
   }
  },
  {
   "cell_type": "code",
   "execution_count": 90,
   "outputs": [],
   "source": [
    "best_binary_operator = best_result['binary_operator']\n",
    "model = best_result['classifier']\n",
    "\n",
    "emb_distance = [best_binary_operator(embedding_train(src), embedding_train(dst)) for src, dst in possible_connections]"
   ],
   "metadata": {
    "collapsed": false
   }
  },
  {
   "cell_type": "code",
   "execution_count": 91,
   "outputs": [],
   "source": [
    "preds = model.predict(emb_distance)\n",
    "pred_prob = model.predict_proba(emb_distance)"
   ],
   "metadata": {
    "collapsed": false
   }
  },
  {
   "cell_type": "code",
   "execution_count": 92,
   "outputs": [],
   "source": [
    "# Create a DataFrame from the existing_connections dictionary\n",
    "df = pd.DataFrame(list(existing_connections.items()), columns=['Connection', 'Real'])\n",
    "df['Pred'] = preds\n",
    "df['Prob'] = pred_prob[:, 1]"
   ],
   "metadata": {
    "collapsed": false
   }
  },
  {
   "cell_type": "code",
   "execution_count": 93,
   "outputs": [],
   "source": [
    "def calculate_accuracy(real, pred):\n",
    "    accuracy = accuracy_score(real, pred)\n",
    "    return accuracy\n",
    "\n",
    "calculate_accuracy(df['Real'], df['Pred']);"
   ],
   "metadata": {
    "collapsed": false
   }
  },
  {
   "cell_type": "code",
   "execution_count": 94,
   "outputs": [
    {
     "data": {
      "text/plain": "<Figure size 800x600 with 1 Axes>",
      "image/png": "[encoded data removed]"
     },
     "metadata": {},
     "output_type": "display_data"
    }
   ],
   "source": [
    "def plot_roc_curve(predictions_df):\n",
    "    # Extract the 'Real', 'Pred', and 'Prob' columns\n",
    "    ground_truth_values = predictions_df['Real'].tolist()\n",
    "    predictions = predictions_df['Pred'].tolist()\n",
    "\n",
    "    # Calculate the ROC curve\n",
    "    fpr, tpr, _ = roc_curve(ground_truth_values, predictions)\n",
    "\n",
    "    # Calculate the AUC (Area Under the Curve)\n",
    "    roc_auc = roc_auc_score(ground_truth_values, predictions)\n",
    "\n",
    "    # Plot the ROC curve\n",
    "    plt.figure(figsize=(8, 6))\n",
    "    plt.plot(fpr, tpr, color='darkorange', lw=2, label=f'ROC curve (AUC = {roc_auc:.2f})')\n",
    "    plt.plot([0, 1], [0, 1], color='navy', lw=2, linestyle='--')\n",
    "    plt.xlim([0.0, 1.0])\n",
    "    plt.ylim([0.0, 1.05])\n",
    "    plt.xlabel('False Positive Rate')\n",
    "    plt.ylabel('True Positive Rate')\n",
    "    plt.title('Receiver Operating Characteristic (ROC) Curve')\n",
    "    plt.legend(loc='lower right')\n",
    "    plt.show()\n",
    "\n",
    "# Example usage:\n",
    "plot_roc_curve(df)"
   ],
   "metadata": {
    "collapsed": false
   }
  },
  {
   "cell_type": "code",
   "execution_count": 95,
   "outputs": [],
   "source": [
    "was_in_train = examples[labels == 1]\n",
    "was_in_test = examples_test[labels_test == 1]"
   ],
   "metadata": {
    "collapsed": false
   }
  },
  {
   "cell_type": "code",
   "execution_count": 96,
   "outputs": [],
   "source": [
    "was_in_train = [(int(a), int(b)) for a,b in was_in_train]\n",
    "was_in_test = [(int(a), int(b)) for a,b in was_in_test]"
   ],
   "metadata": {
    "collapsed": false
   }
  },
  {
   "cell_type": "code",
   "execution_count": 97,
   "outputs": [],
   "source": [
    "def was_in_test_function(row, list):\n",
    "    src, dest = row['Connection']\n",
    "\n",
    "    if [src, dest] in list or (dest, src) in list:\n",
    "        return 1\n",
    "    else:\n",
    "        return 0\n",
    "\n",
    "df['IncludedInTrain'] = df.apply(lambda x: was_in_test_function(x, was_in_train), axis=1)\n",
    "df['IncludedInTest'] = df.apply(lambda x: was_in_test_function(x, was_in_test), axis=1)"
   ],
   "metadata": {
    "collapsed": false
   }
  },
  {
   "cell_type": "code",
   "execution_count": 98,
   "outputs": [
    {
     "name": "stdout",
     "output_type": "stream",
     "text": [
      "Train Accuracy: nan%\n",
      "Test Accuracy: 100.00%\n",
      "Not in any Accuracy: 89.12%\n",
      "Test Accuracy: 89.16%\n"
     ]
    },
    {
     "name": "stderr",
     "output_type": "stream",
     "text": [
      "c:\\users\\geako\\dataspellprojects\\friend_venv\\lib\\site-packages\\numpy\\lib\\function_base.py:518: RuntimeWarning: Mean of empty slice.\n",
      "  avg = a.mean(axis, **keepdims_kw)\n",
      "c:\\users\\geako\\dataspellprojects\\friend_venv\\lib\\site-packages\\numpy\\core\\_methods.py:192: RuntimeWarning: invalid value encountered in scalar divide\n",
      "  ret = ret.dtype.type(ret / rcount)\n"
     ]
    }
   ],
   "source": [
    "t = df[df['IncludedInTrain'] == 1]\n",
    "train_acc = calculate_accuracy(t['Real'], t['Pred'])\n",
    "\n",
    "\n",
    "t = df[df['IncludedInTest'] == 1]\n",
    "test_acc = calculate_accuracy(t['Real'], t['Pred'])\n",
    "\n",
    "t = df[~((df['IncludedInTrain'] == 1) | (df['IncludedInTest'] == 1))]\n",
    "not_in_any_acc = calculate_accuracy(t['Real'], t['Pred'])\n",
    "\n",
    "accuracy = calculate_accuracy(df['Real'], df['Pred'])\n",
    "\n",
    "print(f'Train Accuracy: {train_acc:.2%}')\n",
    "print(f'Test Accuracy: {test_acc:.2%}')\n",
    "print(f'Not in any Accuracy: {not_in_any_acc:.2%}')\n",
    "print(f'Test Accuracy: {accuracy:.2%}')"
   ],
   "metadata": {
    "collapsed": false
   }
  },
  {
   "cell_type": "code",
   "execution_count": 99,
   "outputs": [
    {
     "data": {
      "text/plain": "    Connection  Real  Pred      Prob  IncludedInTrain  IncludedInTest\n118   (2, 226)     1     1  0.560270                0               0\n78     (2, 28)     0     1  0.560115                0               0\n45    (2, 116)     1     1  0.558201                0               0\n157    (2, 14)     0     1  0.558192                0               0\n128   (2, 149)     1     1  0.556914                0               0\n..         ...   ...   ...       ...              ...             ...\n286    (2, 90)     0     0  0.319568                0               0\n290   (2, 145)     0     0  0.306575                0               0\n287   (2, 179)     0     0  0.306419                0               0\n298   (2, 282)     0     0  0.274074                0               0\n299   (2, 244)     0     0  0.268353                0               0\n\n[332 rows x 6 columns]",
      "text/html": "<div>\n<style scoped>\n    .dataframe tbody tr th:only-of-type {\n        vertical-align: middle;\n    }\n\n    .dataframe tbody tr th {\n        vertical-align: top;\n    }\n\n    .dataframe thead th {\n        text-align: right;\n    }\n</style>\n<table border=\"1\" class=\"dataframe\">\n  <thead>\n    <tr style=\"text-align: right;\">\n      <th></th>\n      <th>Connection</th>\n      <th>Real</th>\n      <th>Pred</th>\n      <th>Prob</th>\n      <th>IncludedInTrain</th>\n      <th>IncludedInTest</th>\n    </tr>\n  </thead>\n  <tbody>\n    <tr>\n      <th>118</th>\n      <td>(2, 226)</td>\n      <td>1</td>\n      <td>1</td>\n      <td>0.560270</td>\n      <td>0</td>\n      <td>0</td>\n    </tr>\n    <tr>\n      <th>78</th>\n      <td>(2, 28)</td>\n      <td>0</td>\n      <td>1</td>\n      <td>0.560115</td>\n      <td>0</td>\n      <td>0</td>\n    </tr>\n    <tr>\n      <th>45</th>\n      <td>(2, 116)</td>\n      <td>1</td>\n      <td>1</td>\n      <td>0.558201</td>\n      <td>0</td>\n      <td>0</td>\n    </tr>\n    <tr>\n      <th>157</th>\n      <td>(2, 14)</td>\n      <td>0</td>\n      <td>1</td>\n      <td>0.558192</td>\n      <td>0</td>\n      <td>0</td>\n    </tr>\n    <tr>\n      <th>128</th>\n      <td>(2, 149)</td>\n      <td>1</td>\n      <td>1</td>\n      <td>0.556914</td>\n      <td>0</td>\n      <td>0</td>\n    </tr>\n    <tr>\n      <th>...</th>\n      <td>...</td>\n      <td>...</td>\n      <td>...</td>\n      <td>...</td>\n      <td>...</td>\n      <td>...</td>\n    </tr>\n    <tr>\n      <th>286</th>\n      <td>(2, 90)</td>\n      <td>0</td>\n      <td>0</td>\n      <td>0.319568</td>\n      <td>0</td>\n      <td>0</td>\n    </tr>\n    <tr>\n      <th>290</th>\n      <td>(2, 145)</td>\n      <td>0</td>\n      <td>0</td>\n      <td>0.306575</td>\n      <td>0</td>\n      <td>0</td>\n    </tr>\n    <tr>\n      <th>287</th>\n      <td>(2, 179)</td>\n      <td>0</td>\n      <td>0</td>\n      <td>0.306419</td>\n      <td>0</td>\n      <td>0</td>\n    </tr>\n    <tr>\n      <th>298</th>\n      <td>(2, 282)</td>\n      <td>0</td>\n      <td>0</td>\n      <td>0.274074</td>\n      <td>0</td>\n      <td>0</td>\n    </tr>\n    <tr>\n      <th>299</th>\n      <td>(2, 244)</td>\n      <td>0</td>\n      <td>0</td>\n      <td>0.268353</td>\n      <td>0</td>\n      <td>0</td>\n    </tr>\n  </tbody>\n</table>\n<p>332 rows × 6 columns</p>\n</div>"
     },
     "execution_count": 99,
     "metadata": {},
     "output_type": "execute_result"
    }
   ],
   "source": [
    "df.sort_values('Prob', ascending =False)"
   ],
   "metadata": {
    "collapsed": false
   }
  },
  {
   "cell_type": "code",
   "execution_count": 100,
   "outputs": [],
   "source": [
    "result = df[(df['Real'] == 0) & (df['Pred'] == 1)].sort_values('Prob', ascending = False).head(10)"
   ],
   "metadata": {
    "collapsed": false
   }
  },
  {
   "cell_type": "code",
   "execution_count": 101,
   "outputs": [],
   "source": [
    "result['recommended_friend'] = result['Connection'].apply(lambda x: x[1])"
   ],
   "metadata": {
    "collapsed": false
   }
  },
  {
   "cell_type": "code",
   "execution_count": 102,
   "outputs": [],
   "source": [
    "new_recomendations = list(result['Connection'].values)"
   ],
   "metadata": {
    "collapsed": false
   }
  },
  {
   "cell_type": "code",
   "execution_count": 103,
   "outputs": [],
   "source": [
    "def visualize_graph(graph, recommended_edges=None):\n",
    "    # Create a NetworkX graph from your 'graph' adjacency matrix\n",
    "    G = nx.Graph(graph)\n",
    "\n",
    "    # Create positions for the nodes using a layout algorithm (e.g., spring_layout)\n",
    "    pos = nx.spring_layout(G)\n",
    "\n",
    "    # Create edges and nodes\n",
    "    edge_trace = go.Scatter(\n",
    "        x=[],\n",
    "        y=[],\n",
    "        line=dict(width=0.5, color='#888'),\n",
    "        hoverinfo='none',\n",
    "        mode='lines')\n",
    "\n",
    "    node_trace = go.Scatter(\n",
    "        x=[],\n",
    "        y=[],\n",
    "        text=[],\n",
    "        mode='markers',\n",
    "        hoverinfo='text',\n",
    "        marker=dict(\n",
    "            showscale=True,\n",
    "            colorscale='YlGnBu',\n",
    "            size=10,\n",
    "        )\n",
    "    )\n",
    "\n",
    "    for edge in G.edges():\n",
    "        x0, y0 = pos[edge[0]]\n",
    "        x1, y1 = pos[edge[1]]\n",
    "        edge_trace['x'] += tuple([x0, x1, None])\n",
    "        edge_trace['y'] += tuple([y0, y1, None])\n",
    "\n",
    "    for node in G.nodes():\n",
    "        x, y = pos[node]\n",
    "        node_trace['x'] += tuple([x])\n",
    "        node_trace['y'] += tuple([y])\n",
    "\n",
    "    # Add recommended edges in green color\n",
    "    if recommended_edges:\n",
    "        recommended_x = []\n",
    "        recommended_y = []\n",
    "        recommended_text = []\n",
    "\n",
    "        for edge in recommended_edges:\n",
    "            x0, y0 = pos[edge[0]]\n",
    "            x1, y1 = pos[edge[1]]\n",
    "            recommended_x += [x0, x1, None]\n",
    "            recommended_y += [y0, y1, None]\n",
    "            recommended_text.append(f\"Edge: {edge}, Color: Green\")\n",
    "\n",
    "        edge_trace_recommended = go.Scatter(\n",
    "            x=recommended_x,\n",
    "            y=recommended_y,\n",
    "            text=recommended_text,\n",
    "            line=dict(width=2, color='green'),\n",
    "            hoverinfo='text',\n",
    "            mode='lines'\n",
    "        )\n",
    "\n",
    "        fig = go.Figure(data=[edge_trace, node_trace, edge_trace_recommended],\n",
    "                        layout=go.Layout(\n",
    "                            showlegend=False,\n",
    "                            hovermode='closest',\n",
    "                            margin=dict(b=0, l=0, r=0, t=0)\n",
    "                        )\n",
    "                        )\n",
    "\n",
    "    else:\n",
    "        fig = go.Figure(data=[edge_trace, node_trace],\n",
    "                        layout=go.Layout(\n",
    "                            showlegend=False,\n",
    "                            hovermode='closest',\n",
    "                            margin=dict(b=0, l=0, r=0, t=0)\n",
    "                        )\n",
    "                        )\n",
    "\n",
    "    fig.show()\n",
    "\n",
    "\n",
    "G_nx = G.to_networkx()\n",
    "\n",
    "# Example usage:\n",
    "# visualize_graph(G_nx, recommended_edges=new_recomendations)"
   ],
   "metadata": {
    "collapsed": false
   }
  },
  {
   "cell_type": "markdown",
   "source": [
    "## Recommend For All"
   ],
   "metadata": {
    "collapsed": false
   }
  },
  {
   "cell_type": "code",
   "execution_count": 104,
   "outputs": [],
   "source": [
    "possible_connections = []\n",
    "for user in G.nodes():\n",
    "    for node in G.nodes():\n",
    "        if node != user:\n",
    "            possible_connections.append((user, node))"
   ],
   "metadata": {
    "collapsed": false
   }
  },
  {
   "cell_type": "code",
   "execution_count": 105,
   "outputs": [],
   "source": [
    "existing_connections = {}\n",
    "for (start, end ) in possible_connections:\n",
    "    if (start, end) in G.edges() or (end, start) in G.edges():\n",
    "        existing_connections[(start, end)] = 1\n",
    "    else:\n",
    "        existing_connections[(start, end)] = 0"
   ],
   "metadata": {
    "collapsed": false
   }
  },
  {
   "cell_type": "code",
   "execution_count": 106,
   "outputs": [],
   "source": [
    "best_binary_operator = best_result['binary_operator']\n",
    "model = best_result['classifier']\n",
    "\n",
    "emb_distance = [best_binary_operator(embedding_train(src), embedding_train(dst)) for src, dst in possible_connections]"
   ],
   "metadata": {
    "collapsed": false
   }
  },
  {
   "cell_type": "code",
   "execution_count": 107,
   "outputs": [],
   "source": [
    "preds = model.predict(emb_distance)\n",
    "pred_prob = model.predict_proba(emb_distance)\n",
    "\n",
    "# Create a DataFrame from the existing_connections dictionary\n",
    "df = pd.DataFrame(list(existing_connections.items()), columns=['Connection', 'Real'])\n",
    "df['Pred'] = preds\n",
    "df['Prob'] = pred_prob[:, 1]"
   ],
   "metadata": {
    "collapsed": false
   }
  },
  {
   "cell_type": "code",
   "execution_count": 108,
   "outputs": [],
   "source": [
    "accuracy = calculate_accuracy(df['Real'], df['Pred'])"
   ],
   "metadata": {
    "collapsed": false
   }
  },
  {
   "cell_type": "code",
   "execution_count": 109,
   "outputs": [
    {
     "data": {
      "text/plain": "0.7686059553529433"
     },
     "execution_count": 109,
     "metadata": {},
     "output_type": "execute_result"
    }
   ],
   "source": [
    "accuracy"
   ],
   "metadata": {
    "collapsed": false
   }
  },
  {
   "cell_type": "code",
   "execution_count": 110,
   "outputs": [
    {
     "data": {
      "text/plain": "<Axes: >"
     },
     "execution_count": 110,
     "metadata": {},
     "output_type": "execute_result"
    },
    {
     "data": {
      "text/plain": "<Figure size 640x480 with 1 Axes>",
      "image/png": "[encoded data removed]"
     },
     "metadata": {},
     "output_type": "display_data"
    }
   ],
   "source": [
    "df['Prob'].hist()"
   ],
   "metadata": {
    "collapsed": false
   }
  },
  {
   "cell_type": "code",
   "execution_count": 111,
   "outputs": [
    {
     "data": {
      "text/plain": "Real\n0    105518\n1      5038\nName: count, dtype: int64"
     },
     "execution_count": 111,
     "metadata": {},
     "output_type": "execute_result"
    }
   ],
   "source": [
    "df['Real'].value_counts()"
   ],
   "metadata": {
    "collapsed": false
   }
  },
  {
   "cell_type": "code",
   "execution_count": 112,
   "outputs": [
    {
     "data": {
      "text/plain": "Pred\n0    80012\n1    30544\nName: count, dtype: int64"
     },
     "execution_count": 112,
     "metadata": {},
     "output_type": "execute_result"
    }
   ],
   "source": [
    "df['Pred'].value_counts()"
   ],
   "metadata": {
    "collapsed": false
   }
  },
  {
   "cell_type": "code",
   "execution_count": 113,
   "outputs": [
    {
     "data": {
      "text/plain": "<Figure size 800x600 with 1 Axes>",
      "image/png": "[encoded data removed]"
     },
     "metadata": {},
     "output_type": "display_data"
    }
   ],
   "source": [
    "plot_roc_curve(df)"
   ],
   "metadata": {
    "collapsed": false
   }
  },
  {
   "cell_type": "code",
   "execution_count": 114,
   "outputs": [],
   "source": [
    "# Writing the object to a file\n",
    "with open('best_result.pkl', 'wb') as file:\n",
    "    pickle.dump(best_result, file)"
   ],
   "metadata": {
    "collapsed": false
   }
  },
  {
   "cell_type": "code",
   "execution_count": 116,
   "outputs": [
    {
     "data": {
      "text/plain": "{'classifier': Pipeline(steps=[('sc', StandardScaler()),\n                 ('clf',\n                  LogisticRegressionCV(cv=10, max_iter=4000,\n                                       scoring='roc_auc'))]),\n 'binary_operator': <function __main__.operator_l2(u, v)>,\n 'score': 0.965203761755486}"
     },
     "execution_count": 116,
     "metadata": {},
     "output_type": "execute_result"
    }
   ],
   "source": [
    "best_result"
   ],
   "metadata": {
    "collapsed": false
   }
  },
  {
   "cell_type": "code",
   "execution_count": 115,
   "outputs": [
    {
     "name": "stdout",
     "output_type": "stream",
     "text": [
      "0\n",
      "Nodes: 333\n",
      "Edges: 2519\n",
      "+++++++++++++++++++++\n",
      "107\n",
      "Nodes: 1034\n",
      "Edges: 26749\n",
      "+++++++++++++++++++++\n",
      "348\n",
      "Nodes: 224\n",
      "Edges: 3192\n",
      "+++++++++++++++++++++\n",
      "414\n",
      "Nodes: 150\n",
      "Edges: 1693\n",
      "+++++++++++++++++++++\n",
      "686\n",
      "Nodes: 168\n",
      "Edges: 1656\n",
      "+++++++++++++++++++++\n",
      "698\n",
      "Nodes: 61\n",
      "Edges: 270\n",
      "+++++++++++++++++++++\n"
     ]
    }
   ],
   "source": [
    "ids = ['0', '107', '348', '414', '686', '698']\n",
    "\n",
    "def get_path(id):\n",
    "    path = f'facebook/{id}.edges' # 0.edges\n",
    "    return path\n",
    "\n",
    "for id in ids:\n",
    "    edge_path = get_path(id)\n",
    "    G = nx.read_edgelist(edge_path, nodetype=int, create_using=nx.Graph())\n",
    "    G = sg.StellarGraph.from_networkx(G)\n",
    "    print(id)\n",
    "    print(f'Nodes: {len(G.nodes())}')\n",
    "    print(f'Edges: {len(G.edges())}')\n",
    "    print('+++++++++++++++++++++')"
   ],
   "metadata": {
    "collapsed": false
   }
  }
 ],
 "metadata": {
  "kernelspec": {
   "display_name": "Python 3",
   "language": "python",
   "name": "python3"
  },
  "language_info": {
   "codemirror_mode": {
    "name": "ipython",
    "version": 2
   },
   "file_extension": ".py",
   "mimetype": "text/x-python",
   "name": "python",
   "nbconvert_exporter": "python",
   "pygments_lexer": "ipython2",
   "version": "2.7.6"
  }
 },
 "nbformat": 4,
 "nbformat_minor": 0
}
