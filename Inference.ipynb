{
 "cells": [
  {
   "cell_type": "code",
   "execution_count": 75,
   "metadata": {
    "collapsed": true
   },
   "outputs": [],
   "source": [
    "from stellargraph.data import EdgeSplitter\n",
    "import stellargraph as sg\n",
    "import numpy as np\n",
    "from sklearn.model_selection import train_test_split\n",
    "import multiprocessing\n",
    "import plotly.graph_objects as go\n",
    "from sklearn.metrics import accuracy_score\n",
    "import networkx as nx\n",
    "import plotly.graph_objs as go\n",
    "from sklearn.pipeline import Pipeline\n",
    "from sklearn.linear_model import LogisticRegressionCV\n",
    "from stellargraph.data import BiasedRandomWalk\n",
    "from gensim.models import Word2Vec\n",
    "from sklearn.preprocessing import StandardScaler\n",
    "import pandas as pd\n",
    "from sklearn.metrics import roc_curve, roc_auc_score\n",
    "import matplotlib.pyplot as plt\n",
    "import pickle\n",
    "\n",
    "edge_path = 'facebook/0.edges' # 0.edges"
   ]
  },
  {
   "cell_type": "code",
   "execution_count": 76,
   "outputs": [],
   "source": [
    "def operator_hadamard(u, v):\n",
    "    return u * v\n",
    "\n",
    "def operator_l1(u, v):\n",
    "    return np.abs(u - v)\n",
    "\n",
    "def operator_l2(u, v):\n",
    "    return (u - v) ** 2\n",
    "\n",
    "def operator_avg(u, v):\n",
    "    return (u + v) / 2.0"
   ],
   "metadata": {
    "collapsed": false
   }
  },
  {
   "cell_type": "code",
   "execution_count": 77,
   "outputs": [],
   "source": [
    "# Reading the object from the file\n",
    "with open('best_result.pkl', 'rb') as file:\n",
    "    best_result = pickle.load(file)\n",
    "\n",
    "# Reading the objebest_resultct from the file\n",
    "with open('used_params.pkl', 'rb') as file:\n",
    "    used_params = pickle.load(file)\n",
    "\n",
    "workers = multiprocessing.cpu_count()"
   ],
   "metadata": {
    "collapsed": false
   }
  },
  {
   "cell_type": "code",
   "execution_count": 78,
   "outputs": [],
   "source": [
    "# Beolvasom a fájlt\n",
    "with open(edge_path, 'rt') as file:\n",
    "    text = file.read()\n",
    "\n",
    "# Feldolgozom a sorokat\n",
    "connections = []\n",
    "from_list = []\n",
    "to_list = []\n",
    "for row in text.split('\\n')[:-1]:\n",
    "    a, b = [int(x) for x in row.split(' ')]\n",
    "    connections.append((a, b))\n",
    "\n",
    "    from_list.append(a)\n",
    "    to_list.append(b)"
   ],
   "metadata": {
    "collapsed": false
   }
  },
  {
   "cell_type": "code",
   "execution_count": 79,
   "outputs": [],
   "source": [
    "# Mivel nem folytonos, ezért átmappelem, hogy folytonos legyen, később az Embedding szeretni fogja\n",
    "id_mapper = {}\n",
    "reverse_id_mapper = {}\n",
    "counter = 0\n",
    "for elem in from_list:\n",
    "    if elem not in id_mapper.values():\n",
    "        id_mapper[counter] = elem\n",
    "        reverse_id_mapper[elem] = counter\n",
    "        counter += 1\n",
    "\n",
    "for elem in to_list:\n",
    "    if elem not in id_mapper.values():\n",
    "        id_mapper[counter] = elem\n",
    "        reverse_id_mapper[elem] = counter\n",
    "        counter += 1"
   ],
   "metadata": {
    "collapsed": false
   }
  },
  {
   "cell_type": "code",
   "execution_count": 80,
   "outputs": [],
   "source": [
    "scaled_connections = []\n",
    "for first, second in connections:\n",
    "    first_scaled = reverse_id_mapper[first]\n",
    "    second_scaled = reverse_id_mapper[second]\n",
    "\n",
    "    scaled_connections.append((first_scaled, second_scaled))"
   ],
   "metadata": {
    "collapsed": false
   }
  },
  {
   "cell_type": "code",
   "execution_count": 81,
   "outputs": [],
   "source": [
    "G = nx.Graph()\n",
    "G.add_edges_from(scaled_connections)"
   ],
   "metadata": {
    "collapsed": false
   }
  },
  {
   "cell_type": "code",
   "execution_count": 82,
   "outputs": [],
   "source": [
    "# ['0', '107']\n",
    "# G = nx.read_edgelist(edge_path, nodetype=int, create_using=nx.Graph())\n",
    "for edge in G.edges():\n",
    "    G[edge[0]][edge[1]]['weight'] = 1\n",
    "\n",
    "# is_directed_graph(G)\n",
    "# Castolás StellarGraph-ra, ment ebben találtam hasznos függvényeket\n",
    "G = sg.StellarGraph.from_networkx(G)"
   ],
   "metadata": {
    "collapsed": false
   }
  },
  {
   "cell_type": "code",
   "execution_count": 83,
   "outputs": [],
   "source": [
    "def node2vec_embedding(graph, name):\n",
    "    rw = BiasedRandomWalk(graph)\n",
    "    walks = rw.run(graph.nodes(), n=used_params['num_walks'], length=used_params['walk_length'], p=used_params['p'], q=used_params['q'])\n",
    "    print(f\"Number of random walks for '{name}': {len(walks)}\")\n",
    "\n",
    "    model = Word2Vec(\n",
    "        walks,\n",
    "        vector_size=used_params['dimensions'],\n",
    "        window=used_params['window_size'],\n",
    "        min_count=0,\n",
    "        sg=1,\n",
    "        workers=workers,\n",
    "        epochs=used_params['num_iter'],\n",
    "    )\n",
    "\n",
    "    def get_embedding(u):\n",
    "        return model.wv[u]\n",
    "\n",
    "    return get_embedding"
   ],
   "metadata": {
    "collapsed": false
   }
  },
  {
   "cell_type": "code",
   "execution_count": 84,
   "outputs": [],
   "source": [
    "model = best_result['classifier']\n",
    "operator = best_result['binary_operator']"
   ],
   "metadata": {
    "collapsed": false
   }
  },
  {
   "cell_type": "code",
   "execution_count": 85,
   "outputs": [
    {
     "name": "stdout",
     "output_type": "stream",
     "text": [
      "Number of random walks for 'Graph': 19980\n"
     ]
    }
   ],
   "source": [
    "get_embedding_fn = node2vec_embedding(G, \"Graph\")"
   ],
   "metadata": {
    "collapsed": false
   }
  },
  {
   "cell_type": "code",
   "execution_count": 86,
   "outputs": [],
   "source": [
    "n = len(G.nodes())\n",
    "\n",
    "A = np.zeros((n, n))"
   ],
   "metadata": {
    "collapsed": false
   }
  },
  {
   "cell_type": "code",
   "execution_count": 87,
   "outputs": [
    {
     "data": {
      "text/plain": "(333, 333)"
     },
     "execution_count": 87,
     "metadata": {},
     "output_type": "execute_result"
    }
   ],
   "source": [
    "A.shape"
   ],
   "metadata": {
    "collapsed": false
   }
  },
  {
   "cell_type": "code",
   "execution_count": 88,
   "outputs": [],
   "source": [
    "# Fill the array using the get_embedding and operator functions\n",
    "for node1 in G.nodes():\n",
    "    for node2 in G.nodes():\n",
    "        if node1 != node2:\n",
    "            first_embedding = get_embedding_fn(node1)\n",
    "            second_embedding = get_embedding_fn(node2)\n",
    "\n",
    "            distance_vector = operator(first_embedding, second_embedding)\n",
    "\n",
    "            prob = model.predict_proba([distance_vector])\n",
    "\n",
    "            A[node1, node2] = prob[0][0]\n",
    "\n",
    "# print(A)"
   ],
   "metadata": {
    "collapsed": false
   }
  },
  {
   "cell_type": "code",
   "execution_count": 91,
   "outputs": [
    {
     "data": {
      "text/plain": "array([[0.        , 0.08998662, 0.97473269, ..., 1.        , 0.99297661,\n        0.98908393],\n       [0.08998662, 0.        , 0.92592817, ..., 1.        , 0.99711793,\n        0.98607377],\n       [0.97473269, 0.92592817, 0.        , ..., 1.        , 0.70743222,\n        0.99834427],\n       ...,\n       [1.        , 1.        , 1.        , ..., 0.        , 1.        ,\n        0.99999997],\n       [0.99297661, 0.99711793, 0.70743222, ..., 1.        , 0.        ,\n        0.99999593],\n       [0.98908393, 0.98607377, 0.99834427, ..., 0.99999997, 0.99999593,\n        0.        ]])"
     },
     "execution_count": 91,
     "metadata": {},
     "output_type": "execute_result"
    }
   ],
   "source": [
    "A"
   ],
   "metadata": {
    "collapsed": false
   }
  },
  {
   "cell_type": "code",
   "execution_count": 89,
   "outputs": [],
   "source": [
    "predictions = pd.DataFrame(A)"
   ],
   "metadata": {
    "collapsed": false
   }
  },
  {
   "cell_type": "code",
   "execution_count": 90,
   "outputs": [
    {
     "data": {
      "text/plain": "<Figure size 640x480 with 1 Axes>",
      "image/png": "[encoded data removed]"
     },
     "metadata": {},
     "output_type": "display_data"
    }
   ],
   "source": [
    "# Flatten the DataFrame using the stack method\n",
    "flattened_df = predictions.stack().reset_index(drop=True)\n",
    "\n",
    "# Create a histogram plot\n",
    "plt.hist(flattened_df, bins=10, edgecolor='k')\n",
    "plt.xlabel('Values')\n",
    "plt.ylabel('Frequency')\n",
    "plt.title('Histogram of Flattened DataFrame Values')\n",
    "plt.show()"
   ],
   "metadata": {
    "collapsed": false
   }
  },
  {
   "cell_type": "code",
   "execution_count": 65,
   "outputs": [],
   "source": [
    "predictions = pd.DataFrame(A)\n",
    "\n",
    "predictions.columns = G.nodes()\n",
    "predictions.index = G.nodes()"
   ],
   "metadata": {
    "collapsed": false
   }
  },
  {
   "cell_type": "code",
   "execution_count": 66,
   "outputs": [
    {
     "data": {
      "text/plain": "333"
     },
     "execution_count": 66,
     "metadata": {},
     "output_type": "execute_result"
    }
   ],
   "source": [
    "len(G.nodes())"
   ],
   "metadata": {
    "collapsed": false
   }
  },
  {
   "cell_type": "code",
   "execution_count": 67,
   "outputs": [],
   "source": [
    "def apply_logic(x):\n",
    "    return 1 if x > 0.5 else 0\n",
    "\n",
    "# Apply the function to each value in the DataFrame\n",
    "predictions_zero_one = predictions.applymap(apply_logic)"
   ],
   "metadata": {
    "collapsed": false
   }
  },
  {
   "cell_type": "code",
   "execution_count": 68,
   "outputs": [
    {
     "data": {
      "text/plain": "0      0\n56     0\n1      0\n22     0\n2      0\n      ..\n314    0\n325    0\n315    0\n331    0\n322    0\nLength: 333, dtype: int64"
     },
     "execution_count": 68,
     "metadata": {},
     "output_type": "execute_result"
    }
   ],
   "source": [
    "predictions_zero_one.sum()"
   ],
   "metadata": {
    "collapsed": false
   }
  },
  {
   "cell_type": "code",
   "execution_count": 69,
   "outputs": [],
   "source": [
    "B = np.zeros((n, n))"
   ],
   "metadata": {
    "collapsed": false
   }
  },
  {
   "cell_type": "code",
   "execution_count": 70,
   "outputs": [],
   "source": [
    "for v1, v2 in G.edges():\n",
    "    B[v1, v2] = 1"
   ],
   "metadata": {
    "collapsed": false
   }
  },
  {
   "cell_type": "code",
   "execution_count": 71,
   "outputs": [
    {
     "data": {
      "text/plain": "array([[0., 1., 0., ..., 0., 0., 0.],\n       [0., 0., 0., ..., 0., 0., 0.],\n       [0., 0., 0., ..., 0., 0., 0.],\n       ...,\n       [0., 0., 0., ..., 0., 0., 0.],\n       [0., 0., 0., ..., 0., 0., 0.],\n       [0., 0., 0., ..., 0., 0., 0.]])"
     },
     "execution_count": 71,
     "metadata": {},
     "output_type": "execute_result"
    }
   ],
   "source": [
    "B"
   ],
   "metadata": {
    "collapsed": false
   }
  },
  {
   "cell_type": "code",
   "execution_count": 71,
   "outputs": [],
   "source": [],
   "metadata": {
    "collapsed": false
   }
  },
  {
   "cell_type": "code",
   "execution_count": 71,
   "outputs": [],
   "source": [],
   "metadata": {
    "collapsed": false
   }
  },
  {
   "cell_type": "code",
   "execution_count": 72,
   "outputs": [
    {
     "data": {
      "text/plain": "0.0"
     },
     "execution_count": 72,
     "metadata": {},
     "output_type": "execute_result"
    }
   ],
   "source": [
    "A[0,0]"
   ],
   "metadata": {
    "collapsed": false
   }
  },
  {
   "cell_type": "code",
   "execution_count": 73,
   "outputs": [
    {
     "ename": "NameError",
     "evalue": "name 'Űlist' is not defined",
     "output_type": "error",
     "traceback": [
      "\u001B[1;31m---------------------------------------------------------------------------\u001B[0m",
      "\u001B[1;31mNameError\u001B[0m                                 Traceback (most recent call last)",
      "Cell \u001B[1;32mIn[73], line 1\u001B[0m\n\u001B[1;32m----> 1\u001B[0m \u001B[43mŰlist\u001B[49m(G\u001B[38;5;241m.\u001B[39mnodes())\n",
      "\u001B[1;31mNameError\u001B[0m: name 'Űlist' is not defined"
     ]
    }
   ],
   "source": [
    "Űlist(G.nodes())"
   ],
   "metadata": {
    "collapsed": false
   }
  },
  {
   "cell_type": "code",
   "execution_count": null,
   "outputs": [],
   "source": [
    "prob[0][0]"
   ],
   "metadata": {
    "collapsed": false
   }
  },
  {
   "cell_type": "code",
   "execution_count": null,
   "outputs": [],
   "source": [
    "# get_embedding(322)"
   ],
   "metadata": {
    "collapsed": false
   }
  },
  {
   "cell_type": "code",
   "execution_count": null,
   "outputs": [],
   "source": [
    "model.predict_proba([distance_vector])"
   ],
   "metadata": {
    "collapsed": false
   }
  },
  {
   "cell_type": "code",
   "execution_count": null,
   "outputs": [],
   "source": [],
   "metadata": {
    "collapsed": false
   }
  },
  {
   "cell_type": "code",
   "execution_count": null,
   "outputs": [],
   "source": [],
   "metadata": {
    "collapsed": false
   }
  }
 ],
 "metadata": {
  "kernelspec": {
   "display_name": "Python 3",
   "language": "python",
   "name": "python3"
  },
  "language_info": {
   "codemirror_mode": {
    "name": "ipython",
    "version": 2
   },
   "file_extension": ".py",
   "mimetype": "text/x-python",
   "name": "python",
   "nbconvert_exporter": "python",
   "pygments_lexer": "ipython2",
   "version": "2.7.6"
  }
 },
 "nbformat": 4,
 "nbformat_minor": 0
}
