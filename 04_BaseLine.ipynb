{
 "cells": [
  {
   "cell_type": "code",
   "execution_count": 44,
   "id": "initial_id",
   "metadata": {
    "collapsed": true,
    "ExecuteTime": {
     "end_time": "2023-11-19T20:26:02.691113800Z",
     "start_time": "2023-11-19T20:26:02.670668900Z"
    }
   },
   "outputs": [],
   "source": [
    "from stellargraph.data import EdgeSplitter\n",
    "import numpy as np\n",
    "from sklearn.model_selection import train_test_split\n",
    "import pandas as pd\n",
    "from sklearn.decomposition import PCA\n",
    "import stellargraph as sg\n",
    "import matplotlib.pyplot as plt\n",
    "import networkx as nx\n",
    "import common_functions as cf\n",
    "import random"
   ]
  },
  {
   "cell_type": "code",
   "execution_count": 9,
   "outputs": [
    {
     "name": "stdout",
     "output_type": "stream",
     "text": [
      "** Sampled 503 positive and 503 negative edges. **\n",
      "Number of random walks for 'Graph': 33300\n"
     ]
    }
   ],
   "source": [
    "G, mapper, reverse_mapper = cf.create_mapping_from_file_path('facebook/0.edges')\n",
    "\n",
    "edge_splitter = EdgeSplitter(G)\n",
    "splitted_graph, X, y = edge_splitter.train_test_split(p=0.2, method=\"global\")\n",
    "\n",
    "embedding_all = cf.node2vec_embedding(splitted_graph, \"Graph\") # TODO: Megkérdezni valaki, hogy G-vel miért nem működik, nem értem\n",
    "\n",
    "model = cf.train_link_prediction_model(X, y, embedding_all, cf.operator_l2)"
   ],
   "metadata": {
    "collapsed": false,
    "ExecuteTime": {
     "end_time": "2023-11-19T20:06:58.748529900Z",
     "start_time": "2023-11-19T20:05:18.016832800Z"
    }
   },
   "id": "2d8174217cff5322"
  },
  {
   "cell_type": "code",
   "execution_count": 11,
   "outputs": [
    {
     "data": {
      "text/plain": "stellargraph.core.graph.StellarGraph"
     },
     "execution_count": 11,
     "metadata": {},
     "output_type": "execute_result"
    }
   ],
   "source": [
    "type(splitted_graph)"
   ],
   "metadata": {
    "collapsed": false
   },
   "id": "223c144275c10130"
  },
  {
   "cell_type": "code",
   "execution_count": 79,
   "outputs": [],
   "source": [
    "import networkx as nx\n",
    "from collections import Counter\n",
    "\n",
    "# Assuming splitted_graph is a NetworkX graph\n",
    "# Replace this with the actual graph library you are using if different\n",
    "\n",
    "# Create an empty dictionary to store common neighbors for each node\n",
    "common_neighbors_dict = {}\n",
    "\n",
    "# Iterate over each node in the graph\n",
    "for node in splitted_graph.nodes():\n",
    "    # Get the neighbors of the current node\n",
    "    neighbors = set(splitted_graph.neighbors(node))\n",
    "\n",
    "    # Initialize a Counter to keep track of common neighbors\n",
    "    common_neighbors_counter = Counter()\n",
    "\n",
    "    # Iterate over each neighbor of the current node\n",
    "    for neighbor in neighbors:\n",
    "        # Get the neighbors of the neighbor (excluding the current node)\n",
    "        neighbor_neighbors = set(splitted_graph.neighbors(neighbor)) - {node}\n",
    "\n",
    "        # Update the Counter with the common neighbors\n",
    "        common_neighbors_counter.update(neighbor_neighbors)\n",
    "\n",
    "    # Get the top 5 nodes with the highest counts (common neighbors)\n",
    "    top_common_neighbors = common_neighbors_counter.most_common(5)\n",
    "\n",
    "    # Store the result in the dictionary\n",
    "    common_neighbors_dict[node] = top_common_neighbors"
   ],
   "metadata": {
    "collapsed": false,
    "ExecuteTime": {
     "end_time": "2023-11-19T20:40:07.500131700Z",
     "start_time": "2023-11-19T20:40:07.486811100Z"
    }
   },
   "id": "93e3d3e177ac192a"
  },
  {
   "cell_type": "code",
   "execution_count": 86,
   "outputs": [],
   "source": [
    "import random\n",
    "import stellargraph as sg\n",
    "from collections import Counter\n",
    "\n",
    "def top_common_neighbors(graph):\n",
    "    # Get all node ids in the graph\n",
    "    all_node_ids = list(graph.nodes())\n",
    "\n",
    "    # Initialize an empty dictionary to store the results\n",
    "    result = {}\n",
    "\n",
    "    # Iterate over each node in the graph\n",
    "    for node in all_node_ids:\n",
    "        # Get the neighbors of the node\n",
    "        neighbors = list(graph.neighbors(node))\n",
    "\n",
    "        # Count the number of common neighbors for each neighbor\n",
    "        common_neighbors_counts = Counter([neighbor for n in neighbors for neighbor in graph.neighbors(n) if neighbor != node])\n",
    "\n",
    "        # Get the top 5 nodes with the most common neighbors\n",
    "        top_5 = [node_id for node_id, count in common_neighbors_counts.most_common(5)]\n",
    "\n",
    "        # If the node has less than 5 neighbors, fill the remaining spots with random node ids\n",
    "        while len(top_5) < 5:\n",
    "            random_node = random.choice(all_node_ids)\n",
    "            if random_node != node and random_node not in top_5:\n",
    "                top_5.append(random_node)\n",
    "\n",
    "        # Add the result to the dictionary\n",
    "        result[node] = top_5\n",
    "\n",
    "    return result"
   ],
   "metadata": {
    "collapsed": false,
    "ExecuteTime": {
     "end_time": "2023-11-19T20:41:31.136582400Z",
     "start_time": "2023-11-19T20:41:31.121193400Z"
    }
   },
   "id": "b51e760cc3a135fc"
  },
  {
   "cell_type": "code",
   "execution_count": 90,
   "outputs": [],
   "source": [
    "neighbor_dict = top_common_neighbors(splitted_graph)"
   ],
   "metadata": {
    "collapsed": false,
    "ExecuteTime": {
     "end_time": "2023-11-19T20:41:58.696013100Z",
     "start_time": "2023-11-19T20:41:58.115671500Z"
    }
   },
   "id": "cab63967347bcf30"
  },
  {
   "cell_type": "code",
   "execution_count": 122,
   "outputs": [],
   "source": [
    "predictions = []\n",
    "for (x1, x2), y_ in zip(X,y):\n",
    "    if y_ == 1:\n",
    "        if x1 in neighbor_dict[x2] or x2 in neighbor_dict[x1]:\n",
    "            predictions.append(1)\n",
    "        else:\n",
    "            predictions.append(0)\n",
    "    else:\n",
    "        if x1 in neighbor_dict[x2] or x2 in neighbor_dict[x1]:\n",
    "            predictions.append(0)\n",
    "        else:\n",
    "            predictions.append(1)"
   ],
   "metadata": {
    "collapsed": false,
    "ExecuteTime": {
     "end_time": "2023-11-19T20:57:17.123564Z",
     "start_time": "2023-11-19T20:57:17.108990100Z"
    }
   },
   "id": "2d2959bc94a541a6"
  },
  {
   "cell_type": "code",
   "execution_count": 123,
   "outputs": [],
   "source": [
    "predictions = np.array(predictions)"
   ],
   "metadata": {
    "collapsed": false,
    "ExecuteTime": {
     "end_time": "2023-11-19T20:57:17.992304600Z",
     "start_time": "2023-11-19T20:57:17.980011Z"
    }
   },
   "id": "d6b7024c472489b4"
  },
  {
   "cell_type": "code",
   "execution_count": 127,
   "outputs": [],
   "source": [
    "# import accuracy_score\n",
    "from sklearn.metrics import accuracy_score\n",
    "\n",
    "# Calculate the accuracy of the predictions\n",
    "accuracy = accuracy_score(y, predictions)\n",
    "\n",
    "# Confusion Matrx\n",
    "from sklearn.metrics import confusion_matrix\n",
    "\n",
    "# Calculate the confusion matrix\n",
    "cm = confusion_matrix(y, predictions)"
   ],
   "metadata": {
    "collapsed": false,
    "ExecuteTime": {
     "end_time": "2023-11-19T20:58:45.343232500Z",
     "start_time": "2023-11-19T20:58:45.307612300Z"
    }
   },
   "id": "ab36dff1cb8d6a16"
  },
  {
   "cell_type": "code",
   "execution_count": 125,
   "outputs": [
    {
     "data": {
      "text/plain": "0.1878727634194831"
     },
     "execution_count": 125,
     "metadata": {},
     "output_type": "execute_result"
    }
   ],
   "source": [
    "accuracy"
   ],
   "metadata": {
    "collapsed": false,
    "ExecuteTime": {
     "end_time": "2023-11-19T20:57:25.032972900Z",
     "start_time": "2023-11-19T20:57:25.012419100Z"
    }
   },
   "id": "7c76c623f2997d25"
  },
  {
   "cell_type": "code",
   "execution_count": 128,
   "outputs": [
    {
     "data": {
      "text/plain": "array([[  5, 498],\n       [319, 184]], dtype=int64)"
     },
     "execution_count": 128,
     "metadata": {},
     "output_type": "execute_result"
    }
   ],
   "source": [
    "cm"
   ],
   "metadata": {
    "collapsed": false,
    "ExecuteTime": {
     "end_time": "2023-11-19T20:58:49.956478700Z",
     "start_time": "2023-11-19T20:58:49.940609300Z"
    }
   },
   "id": "ccea27563767500e"
  }
 ],
 "metadata": {
  "kernelspec": {
   "display_name": "Python 3",
   "language": "python",
   "name": "python3"
  },
  "language_info": {
   "codemirror_mode": {
    "name": "ipython",
    "version": 2
   },
   "file_extension": ".py",
   "mimetype": "text/x-python",
   "name": "python",
   "nbconvert_exporter": "python",
   "pygments_lexer": "ipython2",
   "version": "2.7.6"
  }
 },
 "nbformat": 4,
 "nbformat_minor": 5
}
