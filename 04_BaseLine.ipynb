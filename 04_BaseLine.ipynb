{
 "cells": [
  {
   "cell_type": "code",
   "execution_count": 44,
   "id": "initial_id",
   "metadata": {
    "collapsed": true,
    "ExecuteTime": {
     "end_time": "2023-11-19T20:26:02.691113800Z",
     "start_time": "2023-11-19T20:26:02.670668900Z"
    }
   },
   "outputs": [],
   "source": [
    "from stellargraph.data import EdgeSplitter\n",
    "import numpy as np\n",
    "from sklearn.model_selection import train_test_split\n",
    "import pandas as pd\n",
    "from sklearn.decomposition import PCA\n",
    "import stellargraph as sg\n",
    "import matplotlib.pyplot as plt\n",
    "import networkx as nx\n",
    "import common_functions as cf\n",
    "import random"
   ]
  },
  {
   "cell_type": "code",
   "execution_count": 9,
   "outputs": [
    {
     "name": "stdout",
     "output_type": "stream",
     "text": [
      "** Sampled 503 positive and 503 negative edges. **\n",
      "Number of random walks for 'Graph': 33300\n"
     ]
    }
   ],
   "source": [
    "G, mapper, reverse_mapper = cf.create_mapping_from_file_path('facebook/0.edges')\n",
    "\n",
    "edge_splitter = EdgeSplitter(G)\n",
    "splitted_graph, X, y = edge_splitter.train_test_split(p=0.2, method=\"global\")"
   ],
   "metadata": {
    "collapsed": false,
    "ExecuteTime": {
     "end_time": "2023-11-19T20:06:58.748529900Z",
     "start_time": "2023-11-19T20:05:18.016832800Z"
    }
   },
   "id": "2d8174217cff5322"
  },
  {
   "cell_type": "code",
   "execution_count": 86,
   "outputs": [],
   "source": [
    "import random\n",
    "import stellargraph as sg\n",
    "from collections import Counter\n",
    "\n",
    "def top_common_neighbors(graph):\n",
    "    # Get all node ids in the graph\n",
    "    all_node_ids = list(graph.nodes())\n",
    "\n",
    "    # Initialize an empty dictionary to store the results\n",
    "    result = {}\n",
    "\n",
    "    # Iterate over each node in the graph\n",
    "    for node in all_node_ids:\n",
    "        # Get the neighbors of the node\n",
    "        neighbors = list(graph.neighbors(node))\n",
    "\n",
    "        # Count the number of common neighbors for each neighbor\n",
    "        common_neighbors_counts = Counter([neighbor for n in neighbors for neighbor in graph.neighbors(n) if neighbor != node])\n",
    "\n",
    "        # Get the top 5 nodes with the most common neighbors\n",
    "        top_5 = [node_id for node_id, count in common_neighbors_counts.most_common(5)]\n",
    "\n",
    "        # If the node has less than 5 neighbors, fill the remaining spots with random node ids\n",
    "        while len(top_5) < 5:\n",
    "            random_node = random.choice(all_node_ids)\n",
    "            if random_node != node and random_node not in top_5:\n",
    "                top_5.append(random_node)\n",
    "\n",
    "        # Add the result to the dictionary\n",
    "        result[node] = top_5\n",
    "\n",
    "    return result"
   ],
   "metadata": {
    "collapsed": false,
    "ExecuteTime": {
     "end_time": "2023-11-19T20:41:31.136582400Z",
     "start_time": "2023-11-19T20:41:31.121193400Z"
    }
   },
   "id": "b51e760cc3a135fc"
  },
  {
   "cell_type": "code",
   "execution_count": 90,
   "outputs": [],
   "source": [
    "neighbor_dict = top_common_neighbors(splitted_graph)"
   ],
   "metadata": {
    "collapsed": false,
    "ExecuteTime": {
     "end_time": "2023-11-19T20:41:58.696013100Z",
     "start_time": "2023-11-19T20:41:58.115671500Z"
    }
   },
   "id": "cab63967347bcf30"
  },
  {
   "cell_type": "code",
   "execution_count": 122,
   "outputs": [],
   "source": [
    "# TODO 2-t külön szedni\n",
    "# x1_score = []\n",
    "# x2_score = []\n",
    "\n",
    "predictions = []\n",
    "for (x1, x2), y_ in zip(X,y):\n",
    "    if y_ == 1:\n",
    "        if x1 in neighbor_dict[x2] or x2 in neighbor_dict[x1]:\n",
    "            predictions.append(1)\n",
    "        else:\n",
    "            predictions.append(0)\n",
    "    else:\n",
    "        if x1 in neighbor_dict[x2] or x2 in neighbor_dict[x1]:\n",
    "            predictions.append(0)\n",
    "        else:\n",
    "            predictions.append(1)\n",
    "            \n",
    "    "
   ],
   "metadata": {
    "collapsed": false,
    "ExecuteTime": {
     "end_time": "2023-11-19T20:57:17.123564Z",
     "start_time": "2023-11-19T20:57:17.108990100Z"
    }
   },
   "id": "2d2959bc94a541a6"
  },
  {
   "cell_type": "code",
   "execution_count": 123,
   "outputs": [],
   "source": [
    "predictions = np.array(predictions)"
   ],
   "metadata": {
    "collapsed": false,
    "ExecuteTime": {
     "end_time": "2023-11-19T20:57:17.992304600Z",
     "start_time": "2023-11-19T20:57:17.980011Z"
    }
   },
   "id": "d6b7024c472489b4"
  },
  {
   "cell_type": "code",
   "execution_count": 127,
   "outputs": [],
   "source": [
    "# import accuracy_score\n",
    "from sklearn.metrics import accuracy_score\n",
    "\n",
    "# Calculate the accuracy of the predictions\n",
    "accuracy = accuracy_score(y, predictions)\n",
    "\n",
    "# Confusion Matrx\n",
    "from sklearn.metrics import confusion_matrix\n",
    "\n",
    "# Calculate the confusion matrix\n",
    "cm = confusion_matrix(y, predictions)"
   ],
   "metadata": {
    "collapsed": false,
    "ExecuteTime": {
     "end_time": "2023-11-19T20:58:45.343232500Z",
     "start_time": "2023-11-19T20:58:45.307612300Z"
    }
   },
   "id": "ab36dff1cb8d6a16"
  },
  {
   "cell_type": "code",
   "execution_count": 125,
   "outputs": [
    {
     "data": {
      "text/plain": "0.1878727634194831"
     },
     "execution_count": 125,
     "metadata": {},
     "output_type": "execute_result"
    }
   ],
   "source": [
    "accuracy"
   ],
   "metadata": {
    "collapsed": false,
    "ExecuteTime": {
     "end_time": "2023-11-19T20:57:25.032972900Z",
     "start_time": "2023-11-19T20:57:25.012419100Z"
    }
   },
   "id": "7c76c623f2997d25"
  },
  {
   "cell_type": "code",
   "execution_count": 128,
   "outputs": [
    {
     "data": {
      "text/plain": "array([[  5, 498],\n       [319, 184]], dtype=int64)"
     },
     "execution_count": 128,
     "metadata": {},
     "output_type": "execute_result"
    }
   ],
   "source": [
    "cm"
   ],
   "metadata": {
    "collapsed": false,
    "ExecuteTime": {
     "end_time": "2023-11-19T20:58:49.956478700Z",
     "start_time": "2023-11-19T20:58:49.940609300Z"
    }
   },
   "id": "ccea27563767500e"
  },
  {
   "cell_type": "code",
   "execution_count": 6,
   "outputs": [],
   "source": [
    "import numpy as np\n",
    "import matplotlib.pyplot as plt"
   ],
   "metadata": {
    "collapsed": false,
    "ExecuteTime": {
     "end_time": "2023-11-20T08:59:53.073980100Z",
     "start_time": "2023-11-20T08:59:53.052262200Z"
    }
   },
   "id": "ea18ace9c30aaf0c"
  },
  {
   "cell_type": "code",
   "execution_count": 7,
   "outputs": [],
   "source": [
    "def plot_normal_distribution(mu, sigma):\n",
    "    # Create a range of numbers from -5 to 5\n",
    "    x = np.linspace(-5, 5, 100)\n",
    "\n",
    "    # Calculate the probability density function (PDF)\n",
    "    y = 1/(sigma * np.sqrt(2 * np.pi)) * np.exp(- (x - mu)**2 / (2 * sigma**2))\n",
    "\n",
    "    # Plot the distribution\n",
    "    plt.plot(x, y)\n",
    "    plt.show()"
   ],
   "metadata": {
    "collapsed": false,
    "ExecuteTime": {
     "end_time": "2023-11-20T08:59:53.267593500Z",
     "start_time": "2023-11-20T08:59:53.256624400Z"
    }
   },
   "id": "c5e8448aae164c05"
  },
  {
   "cell_type": "code",
   "execution_count": 8,
   "outputs": [
    {
     "data": {
      "text/plain": "<Figure size 640x480 with 1 Axes>",
      "image/png": "[encoded data removed]"
     },
     "metadata": {},
     "output_type": "display_data"
    }
   ],
   "source": [
    "plot_normal_distribution(2.2, 1.5)"
   ],
   "metadata": {
    "collapsed": false,
    "ExecuteTime": {
     "end_time": "2023-11-20T08:59:53.558412100Z",
     "start_time": "2023-11-20T08:59:53.445714100Z"
    }
   },
   "id": "cafec2e9c32d33b0"
  },
  {
   "cell_type": "code",
   "execution_count": 9,
   "outputs": [
    {
     "name": "stdout",
     "output_type": "stream",
     "text": [
      "The number of elements less than 1 is approximately 10.592769929169835\n"
     ]
    }
   ],
   "source": [
    "from scipy.stats import norm\n",
    "\n",
    "# Parameters\n",
    "mu = 2.2\n",
    "sigma = 1.5\n",
    "n = 50\n",
    "x = 1\n",
    "\n",
    "# Calculate the cumulative distribution function (CDF)\n",
    "cdf = norm.cdf(x, mu, sigma)\n",
    "\n",
    "# Calculate the number of elements less than 1\n",
    "num_elements = n * cdf\n",
    "\n",
    "print(f\"The number of elements less than 1 is approximately {num_elements}\")"
   ],
   "metadata": {
    "collapsed": false,
    "ExecuteTime": {
     "end_time": "2023-11-20T09:08:27.169756600Z",
     "start_time": "2023-11-20T09:08:25.820640800Z"
    }
   },
   "id": "107c454ba2bb30cf"
  },
  {
   "cell_type": "code",
   "execution_count": 10,
   "outputs": [
    {
     "data": {
      "text/plain": "0.09082487681884448"
     },
     "execution_count": 10,
     "metadata": {},
     "output_type": "execute_result"
    }
   ],
   "source": [
    "x1 = 12.3\n",
    "x2 = 11.6\n",
    "n1 = 10\n",
    "n2 = 12\n",
    "sigma = 18\n",
    "\n",
    "(x1-x2)/np.sqrt(sigma**2*(1/n1+1/n2))"
   ],
   "metadata": {
    "collapsed": false,
    "ExecuteTime": {
     "end_time": "2023-11-20T14:46:52.775938500Z",
     "start_time": "2023-11-20T14:46:52.688171500Z"
    }
   },
   "id": "b1f7cd352f8a2bd5"
  },
  {
   "cell_type": "code",
   "execution_count": null,
   "outputs": [],
   "source": [],
   "metadata": {
    "collapsed": false
   },
   "id": "85d6b4e6f8ca41f1"
  },
  {
   "cell_type": "code",
   "execution_count": 18,
   "outputs": [],
   "source": [
    "\n",
    "\n",
    "from scipy.stats import chi2_contingency\n"
   ],
   "metadata": {
    "collapsed": false,
    "ExecuteTime": {
     "end_time": "2023-11-21T21:03:33.191464200Z",
     "start_time": "2023-11-21T21:03:33.181491700Z"
    }
   },
   "id": "9f7e8180ac47651b"
  },
  {
   "cell_type": "code",
   "execution_count": 19,
   "outputs": [
    {
     "data": {
      "text/plain": "array([370,  40, 190])"
     },
     "execution_count": 19,
     "metadata": {},
     "output_type": "execute_result"
    }
   ],
   "source": [
    "A.sum(axis=0)"
   ],
   "metadata": {
    "collapsed": false,
    "ExecuteTime": {
     "end_time": "2023-11-21T21:03:33.391433900Z",
     "start_time": "2023-11-21T21:03:33.378246800Z"
    }
   },
   "id": "d0a5f4f28ccfc54d"
  },
  {
   "cell_type": "code",
   "execution_count": 24,
   "outputs": [],
   "source": [],
   "metadata": {
    "collapsed": false,
    "ExecuteTime": {
     "end_time": "2023-11-21T21:04:35.560016800Z",
     "start_time": "2023-11-21T21:04:35.545114Z"
    }
   },
   "id": "5c2c484cdf694fd5"
  },
  {
   "cell_type": "code",
   "execution_count": 27,
   "outputs": [],
   "source": [
    "# do a khi2 independence test\n",
    "\n",
    "A = np.array([[56,4,20],[78,8,34], [236, 28, 136]])\n",
    "\n",
    "n = A.sum()\n",
    "\n",
    "chi_score = 0\n",
    "for i in range(3):\n",
    "    for j in range(3):\n",
    "        chi_score += (A[i,j] - A.sum(axis=0)[i]*A.sum(axis=1)[j]/n) ** 2 / (A.sum(axis=0)[i]*A.sum(axis=1)[j]/n)"
   ],
   "metadata": {
    "collapsed": false,
    "ExecuteTime": {
     "end_time": "2023-11-21T21:05:35.131108300Z",
     "start_time": "2023-11-21T21:05:35.117143600Z"
    }
   },
   "id": "238058bddc7c55af"
  },
  {
   "cell_type": "code",
   "execution_count": 29,
   "outputs": [
    {
     "data": {
      "text/plain": "3022.6843527738265"
     },
     "execution_count": 29,
     "metadata": {},
     "output_type": "execute_result"
    }
   ],
   "source": [
    "chi_score"
   ],
   "metadata": {
    "collapsed": false,
    "ExecuteTime": {
     "end_time": "2023-11-21T21:05:40.299940600Z",
     "start_time": "2023-11-21T21:05:40.283984600Z"
    }
   },
   "id": "698d0d16e8fd9a9c"
  },
  {
   "cell_type": "code",
   "execution_count": 26,
   "outputs": [],
   "source": [],
   "metadata": {
    "collapsed": false,
    "ExecuteTime": {
     "end_time": "2023-11-21T21:05:00.826615700Z",
     "start_time": "2023-11-21T21:05:00.783730200Z"
    }
   },
   "id": "14edc6a3a88af8cd"
  },
  {
   "cell_type": "code",
   "execution_count": 30,
   "outputs": [
    {
     "name": "stdout",
     "output_type": "stream",
     "text": [
      "Chi-squared statistic: 4.209957325746797\n"
     ]
    }
   ],
   "source": [
    "A = np.array([[56, 4, 20], [78, 8, 34], [236, 28, 136]])\n",
    "\n",
    "n = A.sum()\n",
    "\n",
    "# Calculate expected frequencies\n",
    "expected = np.outer(A.sum(axis=1), A.sum(axis=0)) / n\n",
    "\n",
    "# Calculate chi-squared statistic\n",
    "chi_score = np.sum((A - expected)**2 / expected)\n",
    "\n",
    "print(\"Chi-squared statistic:\", chi_score)\n"
   ],
   "metadata": {
    "collapsed": false,
    "ExecuteTime": {
     "end_time": "2023-11-21T21:07:26.791367900Z",
     "start_time": "2023-11-21T21:07:26.755464200Z"
    }
   },
   "id": "d3a68af9ea89b787"
  },
  {
   "cell_type": "code",
   "execution_count": 34,
   "outputs": [
    {
     "data": {
      "text/plain": "array([[ 49.33333333,   5.33333333,  25.33333333],\n       [ 74.        ,   8.        ,  38.        ],\n       [246.66666667,  26.66666667, 126.66666667]])"
     },
     "execution_count": 34,
     "metadata": {},
     "output_type": "execute_result"
    }
   ],
   "source": [
    "expected"
   ],
   "metadata": {
    "collapsed": false,
    "ExecuteTime": {
     "end_time": "2023-11-21T21:10:14.243795800Z",
     "start_time": "2023-11-21T21:10:14.215869800Z"
    }
   },
   "id": "b23b5b29d5d8cfb6"
  }
 ],
 "metadata": {
  "kernelspec": {
   "display_name": "Python 3",
   "language": "python",
   "name": "python3"
  },
  "language_info": {
   "codemirror_mode": {
    "name": "ipython",
    "version": 2
   },
   "file_extension": ".py",
   "mimetype": "text/x-python",
   "name": "python",
   "nbconvert_exporter": "python",
   "pygments_lexer": "ipython2",
   "version": "2.7.6"
  }
 },
 "nbformat": 4,
 "nbformat_minor": 5
}
