{
 "cells": [
  {
   "cell_type": "code",
   "execution_count": 1,
   "id": "initial_id",
   "metadata": {
    "collapsed": true,
    "ExecuteTime": {
     "end_time": "2023-12-10T16:26:09.509545Z",
     "start_time": "2023-12-10T16:25:55.264388700Z"
    }
   },
   "outputs": [],
   "source": [
    "from stellargraph.data import EdgeSplitter\n",
    "import numpy as np\n",
    "from sklearn.model_selection import train_test_split\n",
    "import pandas as pd\n",
    "from sklearn.decomposition import PCA\n",
    "import stellargraph as sg\n",
    "import matplotlib.pyplot as plt\n",
    "import networkx as nx\n",
    "import common_functions as cf\n",
    "import random\n",
    "from sklearn.metrics import accuracy_score\n",
    "from sklearn.metrics import confusion_matrix\n",
    "from sklearn.metrics import ConfusionMatrixDisplay\n",
    "from sklearn.metrics import RocCurveDisplay\n",
    "from sklearn.metrics import classification_report\n",
    "import random\n",
    "import stellargraph as sg\n",
    "from collections import Counter"
   ]
  },
  {
   "cell_type": "code",
   "execution_count": 2,
   "outputs": [
    {
     "name": "stdout",
     "output_type": "stream",
     "text": [
      "** Sampled 503 positive and 503 negative edges. **\n"
     ]
    }
   ],
   "source": [
    "G, mapper, reverse_mapper = cf.create_mapping_from_file_path('facebook/0.edges')\n",
    "\n",
    "edge_splitter = EdgeSplitter(G)\n",
    "splitted_graph, X, y = edge_splitter.train_test_split(p=0.2, method=\"global\")"
   ],
   "metadata": {
    "collapsed": false,
    "ExecuteTime": {
     "end_time": "2023-12-10T16:26:09.666126300Z",
     "start_time": "2023-12-10T16:26:09.513536500Z"
    }
   },
   "id": "2d8174217cff5322"
  },
  {
   "cell_type": "markdown",
   "source": [
    "# Baseline Recommender\n",
    "This rule-based algorithm finds the top 5 most common friends for each node.\n",
    " \n",
    "We will use this metric to recommend the top 5 most frequent friends. If there's not enough to recommend, we randomly select nodes."
   ],
   "metadata": {
    "collapsed": false
   },
   "id": "fd14da2a994aab06"
  },
  {
   "cell_type": "code",
   "execution_count": 3,
   "outputs": [],
   "source": [
    "def top_common_neighbors(graph):\n",
    "    # Get all node ids in the graph\n",
    "    all_node_ids = list(graph.nodes())\n",
    "\n",
    "    # Initialize an empty dictionary to store the results\n",
    "    result = {}\n",
    "\n",
    "    # Iterate over each node in the graph\n",
    "    for node in all_node_ids:\n",
    "        # Get the neighbors of the node\n",
    "        neighbors = list(graph.neighbors(node))\n",
    "\n",
    "        # Count the number of common neighbors for each neighbor\n",
    "        common_neighbors_counts = Counter([\n",
    "            neighbor for n in neighbors for neighbor in graph.neighbors(n) if neighbor != node\n",
    "        ])\n",
    "\n",
    "        # Get the top 5 nodes with the most common neighbors\n",
    "        top_5 = [node_id for node_id, count in common_neighbors_counts.most_common(5)]\n",
    "\n",
    "        # If the node has less than 5 neighbors, fill the remaining spots with random node ids\n",
    "        while len(top_5) < 5:\n",
    "            random_node = random.choice(all_node_ids)\n",
    "            if random_node != node and random_node not in top_5:\n",
    "                top_5.append(random_node)\n",
    "\n",
    "        # Add the result to the dictionary\n",
    "        result[node] = top_5\n",
    "\n",
    "    return result"
   ],
   "metadata": {
    "collapsed": false,
    "ExecuteTime": {
     "end_time": "2023-12-10T16:26:09.680088900Z",
     "start_time": "2023-12-10T16:26:09.671113300Z"
    }
   },
   "id": "b51e760cc3a135fc"
  },
  {
   "cell_type": "code",
   "execution_count": 4,
   "outputs": [],
   "source": [
    "neighbor_dict = top_common_neighbors(splitted_graph)"
   ],
   "metadata": {
    "collapsed": false,
    "ExecuteTime": {
     "end_time": "2023-12-10T16:26:10.230616400Z",
     "start_time": "2023-12-10T16:26:09.683081900Z"
    }
   },
   "id": "cab63967347bcf30"
  },
  {
   "cell_type": "code",
   "execution_count": 5,
   "outputs": [
    {
     "name": "stdout",
     "output_type": "stream",
     "text": [
      "0: [36, 85, 15, 1, 34]\n",
      "56: [60, 36, 34, 109, 15]\n"
     ]
    }
   ],
   "source": [
    "for i in range(2):\n",
    "    print(f'{list(neighbor_dict.keys())[i]}: {neighbor_dict[i]}')"
   ],
   "metadata": {
    "collapsed": false,
    "ExecuteTime": {
     "end_time": "2023-12-10T16:26:10.246574Z",
     "start_time": "2023-12-10T16:26:10.232611300Z"
    }
   },
   "id": "28da811b20a4e658"
  },
  {
   "cell_type": "code",
   "execution_count": 6,
   "outputs": [],
   "source": [
    "predictions = []\n",
    "for (x1, x2), y_ in zip(X,y):\n",
    "    if y_ == 1:\n",
    "        if x1 in neighbor_dict[x2] or x2 in neighbor_dict[x1]:\n",
    "            predictions.append(1)\n",
    "        else:\n",
    "            predictions.append(0)\n",
    "    else:\n",
    "        if x1 in neighbor_dict[x2] or x2 in neighbor_dict[x1]:\n",
    "            predictions.append(0)\n",
    "        else:\n",
    "            predictions.append(1)"
   ],
   "metadata": {
    "collapsed": false,
    "ExecuteTime": {
     "end_time": "2023-12-10T16:26:10.289962100Z",
     "start_time": "2023-12-10T16:26:10.250615800Z"
    }
   },
   "id": "2d2959bc94a541a6"
  },
  {
   "cell_type": "code",
   "execution_count": 7,
   "outputs": [],
   "source": [
    "predictions = np.array(predictions)"
   ],
   "metadata": {
    "collapsed": false,
    "ExecuteTime": {
     "end_time": "2023-12-10T16:26:10.290458200Z",
     "start_time": "2023-12-10T16:26:10.264526100Z"
    }
   },
   "id": "d6b7024c472489b4"
  },
  {
   "cell_type": "markdown",
   "source": [
    "# Evaluation"
   ],
   "metadata": {
    "collapsed": false
   },
   "id": "7be791295dcdbb91"
  },
  {
   "cell_type": "code",
   "execution_count": 8,
   "outputs": [
    {
     "name": "stdout",
     "output_type": "stream",
     "text": [
      "Accuracy: 18.89%\n"
     ]
    }
   ],
   "source": [
    "accuracy = accuracy_score(y, predictions)*100\n",
    "print(f'Accuracy: {accuracy:.2f}%')"
   ],
   "metadata": {
    "collapsed": false,
    "ExecuteTime": {
     "end_time": "2023-12-10T16:26:10.304423500Z",
     "start_time": "2023-12-10T16:26:10.281483700Z"
    }
   },
   "id": "ab36dff1cb8d6a16"
  },
  {
   "cell_type": "code",
   "execution_count": 9,
   "outputs": [
    {
     "data": {
      "text/plain": "array([[  8, 495],\n       [321, 182]], dtype=int64)"
     },
     "execution_count": 9,
     "metadata": {},
     "output_type": "execute_result"
    }
   ],
   "source": [
    "cm = confusion_matrix(y, predictions)\n",
    "cm"
   ],
   "metadata": {
    "collapsed": false,
    "ExecuteTime": {
     "end_time": "2023-12-10T16:26:10.315389700Z",
     "start_time": "2023-12-10T16:26:10.293449500Z"
    }
   },
   "id": "d52a9370df3997d8"
  },
  {
   "cell_type": "code",
   "execution_count": 10,
   "outputs": [
    {
     "name": "stdout",
     "output_type": "stream",
     "text": [
      "              precision    recall  f1-score   support\n",
      "\n",
      "           0       0.02      0.02      0.02       503\n",
      "           1       0.27      0.36      0.31       503\n",
      "\n",
      "    accuracy                           0.19      1006\n",
      "   macro avg       0.15      0.19      0.16      1006\n",
      "weighted avg       0.15      0.19      0.16      1006\n"
     ]
    }
   ],
   "source": [
    "print(classification_report(y, predictions))"
   ],
   "metadata": {
    "collapsed": false,
    "ExecuteTime": {
     "end_time": "2023-12-10T16:26:10.361267900Z",
     "start_time": "2023-12-10T16:26:10.312398300Z"
    }
   },
   "id": "dc9333ab88cde71a"
  }
 ],
 "metadata": {
  "kernelspec": {
   "display_name": "Python 3",
   "language": "python",
   "name": "python3"
  },
  "language_info": {
   "codemirror_mode": {
    "name": "ipython",
    "version": 2
   },
   "file_extension": ".py",
   "mimetype": "text/x-python",
   "name": "python",
   "nbconvert_exporter": "python",
   "pygments_lexer": "ipython2",
   "version": "2.7.6"
  }
 },
 "nbformat": 4,
 "nbformat_minor": 5
}
