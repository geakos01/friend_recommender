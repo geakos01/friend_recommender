{
 "cells": [
  {
   "cell_type": "code",
   "execution_count": 3,
   "id": "initial_id",
   "metadata": {
    "collapsed": true,
    "ExecuteTime": {
     "end_time": "2023-12-09T17:53:49.463453500Z",
     "start_time": "2023-12-09T17:53:49.448584900Z"
    }
   },
   "outputs": [],
   "source": [
    "from stellargraph.data import EdgeSplitter\n",
    "import numpy as np\n",
    "from sklearn.model_selection import train_test_split\n",
    "import pandas as pd\n",
    "from sklearn.decomposition import PCA\n",
    "import stellargraph as sg\n",
    "import matplotlib.pyplot as plt\n",
    "import networkx as nx\n",
    "import common_functions as cf\n",
    "import random"
   ]
  },
  {
   "cell_type": "code",
   "execution_count": 4,
   "outputs": [
    {
     "name": "stdout",
     "output_type": "stream",
     "text": [
      "** Sampled 503 positive and 503 negative edges. **\n"
     ]
    }
   ],
   "source": [
    "G, mapper, reverse_mapper = cf.create_mapping_from_file_path('facebook/0.edges')\n",
    "\n",
    "edge_splitter = EdgeSplitter(G)\n",
    "splitted_graph, X, y = edge_splitter.train_test_split(p=0.2, method=\"global\")"
   ],
   "metadata": {
    "collapsed": false,
    "ExecuteTime": {
     "end_time": "2023-12-09T17:53:51.472001700Z",
     "start_time": "2023-12-09T17:53:51.307808200Z"
    }
   },
   "id": "2d8174217cff5322"
  },
  {
   "cell_type": "markdown",
   "source": [
    "# Baseline recommender\n",
    "This rule-based algorithm finds the top 5 common friends of each node's friends. We will use this metric to recommend the top 5 most frequent friends. If there's not enough to recommend, we randomly select nodes."
   ],
   "metadata": {
    "collapsed": false
   },
   "id": "fd14da2a994aab06"
  },
  {
   "cell_type": "code",
   "execution_count": 23,
   "outputs": [],
   "source": [
    "import random\n",
    "import stellargraph as sg\n",
    "from collections import Counter\n",
    "\n",
    "def top_common_neighbors(graph):\n",
    "    # Get all node ids in the graph\n",
    "    all_node_ids = list(graph.nodes())\n",
    "\n",
    "    # Initialize an empty dictionary to store the results\n",
    "    result = {}\n",
    "\n",
    "    # Iterate over each node in the graph\n",
    "    for node in all_node_ids:\n",
    "        # Get the neighbors of the node\n",
    "        neighbors = list(graph.neighbors(node))\n",
    "\n",
    "        # Count the number of common neighbors for each neighbor\n",
    "        common_neighbors_counts = Counter([\n",
    "            neighbor for n in neighbors for neighbor in graph.neighbors(n) if neighbor != node\n",
    "        ])\n",
    "\n",
    "        # Get the top 5 nodes with the most common neighbors\n",
    "        top_5 = [node_id for node_id, count in common_neighbors_counts.most_common(5)]\n",
    "\n",
    "        # If the node has less than 5 neighbors, fill the remaining spots with random node ids\n",
    "        while len(top_5) < 5:\n",
    "            random_node = random.choice(all_node_ids)\n",
    "            if random_node != node and random_node not in top_5:\n",
    "                top_5.append(random_node)\n",
    "\n",
    "        # Add the result to the dictionary\n",
    "        result[node] = top_5\n",
    "\n",
    "    return result"
   ],
   "metadata": {
    "collapsed": false,
    "ExecuteTime": {
     "end_time": "2023-12-09T18:39:52.889720900Z",
     "start_time": "2023-12-09T18:39:52.883173200Z"
    }
   },
   "id": "b51e760cc3a135fc"
  },
  {
   "cell_type": "code",
   "execution_count": 24,
   "outputs": [],
   "source": [
    "neighbor_dict = top_common_neighbors(splitted_graph)"
   ],
   "metadata": {
    "collapsed": false,
    "ExecuteTime": {
     "end_time": "2023-12-09T18:39:55.398765300Z",
     "start_time": "2023-12-09T18:39:54.713737900Z"
    }
   },
   "id": "cab63967347bcf30"
  },
  {
   "cell_type": "code",
   "execution_count": 25,
   "outputs": [
    {
     "data": {
      "text/plain": "{0: [34, 60, 1, 14, 107],\n 56: [34, 14, 1, 7, 15],\n 1: [60, 3, 34, 29, 7],\n 22: [34, 60, 15, 3, 63],\n 2: [144, 80, 116, 219, 183],\n 80: [116, 183, 219, 214, 144],\n 3: [34, 36, 7, 60, 65],\n 115: [60, 7, 34, 29, 3],\n 4: [3, 135, 86, 65, 103],\n 107: [3, 34, 36, 15, 60],\n 5: [32, 34, 0, 88, 15],\n 131: [110, 20, 1, 115, 7],\n 6: [80, 219, 144, 116, 167],\n 47: [115, 15, 63, 3, 110],\n 7: [69, 3, 34, 60, 14],\n 84: [60, 3, 14, 34, 63],\n 8: [35, 14, 69, 3, 89],\n 223: [3, 30, 60, 34, 65],\n 9: [14, 120, 36, 115, 3],\n 36: [3, 60, 14, 34, 29],\n 10: [107, 3, 34, 1, 109],\n 95: [15, 60, 3, 29, 109],\n 11: [7, 69, 3, 65, 34],\n 31: [3, 34, 14, 69, 36],\n 12: [60, 1, 3, 7, 29],\n 13: [74, 3, 115, 1, 29],\n 45: [3, 69, 14, 115, 109],\n 14: [34, 3, 7, 36, 69],\n 78: [3, 34, 14, 36, 60],\n 15: [3, 34, 60, 29, 63],\n 32: [88, 119, 178, 50, 116],\n 16: [135, 3, 23, 1, 29],\n 18: [3, 34, 60, 14, 29],\n 17: [230, 179, 200, 217, 238],\n 188: [179, 230, 241, 238, 217],\n 34: [3, 60, 14, 7, 36],\n 19: [116, 80, 119, 219, 144],\n 132: [219, 19, 144, 116, 80],\n 20: [7, 44, 120, 65, 69],\n 181: [15, 20, 84, 120, 107],\n 21: [81, 43, 102, 98, 67],\n 39: [98, 81, 21, 227, 43],\n 232: [14, 110, 115, 69, 31],\n 23: [3, 34, 15, 29, 107],\n 24: [217, 229, 231, 258, 151],\n 185: [97, 53, 175, 113, 100],\n 25: [15, 108, 32, 27, 28],\n 183: [80, 116, 119, 6, 214],\n 26: [29, 14, 27, 34, 134],\n 63: [15, 34, 3, 60, 115],\n 27: [3, 65, 110, 7, 34],\n 135: [29, 18, 115, 60, 3],\n 28: [63, 116, 80, 183, 214],\n 124: [80, 88, 32, 183, 129],\n 29: [3, 14, 60, 34, 36],\n 65: [3, 34, 7, 14, 69],\n 30: [3, 65, 7, 69, 14],\n 157: [3, 34, 22, 65, 126],\n 33: [120, 15, 115, 44, 34],\n 60: [34, 3, 7, 36, 1],\n 35: [7, 69, 3, 65, 34],\n 89: [3, 60, 14, 65, 35],\n 110: [7, 34, 60, 3, 14],\n 37: [29, 110, 3, 14, 63],\n 38: [29, 31, 14, 223, 18],\n 280: [85, 69, 206, 19, 75],\n 133: [102, 227, 81, 210, 128],\n 40: [34, 65, 3, 14, 35],\n 142: [15, 29, 34, 135, 18],\n 41: [15, 29, 105, 91, 1],\n 109: [60, 1, 34, 7, 14],\n 42: [104, 55, 3, 22, 65],\n 43: [81, 210, 21, 98, 102],\n 67: [81, 21, 210, 98, 102],\n 44: [60, 29, 63, 3, 1],\n 46: [273, 218, 162, 169, 174],\n 174: [162, 218, 273, 61, 169],\n 48: [12, 24, 85, 7, 29],\n 49: [97, 113, 204, 185, 149],\n 148: [204, 149, 113, 97, 185],\n 50: [116, 88, 119, 144, 178],\n 51: [97, 148, 100, 175, 149],\n 53: [97, 185, 100, 113, 175],\n 52: [130, 156, 29, 13, 71],\n 317: [308, 24, 204, 329, 120],\n 150: [97, 175, 113, 53, 100],\n 54: [115, 107, 1, 22, 5],\n 125: [268, 55, 96, 134, 29],\n 55: [109, 34, 115, 15, 14],\n 145: [29, 91, 14, 15, 109],\n 57: [69, 109, 14, 3, 60],\n 58: [60, 34, 7, 3, 36],\n 59: [89, 35, 65, 7, 69],\n 126: [14, 89, 60, 34, 3],\n 140: [36, 29, 23, 115, 15],\n 61: [273, 218, 162, 276, 169],\n 62: [60, 1, 56, 15, 69],\n 64: [50, 63, 219, 119, 183],\n 156: [34, 3, 29, 1, 120],\n 225: [110, 115, 131, 27, 0],\n 119: [88, 116, 144, 80, 50],\n 66: [84, 27, 260, 106, 243],\n 243: [27, 15, 84, 10, 183],\n 153: [128, 43, 98, 210, 102],\n 68: [3, 60, 69, 36, 110],\n 134: [34, 115, 3, 107, 60],\n 91: [60, 29, 115, 36, 1],\n 69: [7, 3, 14, 34, 65],\n 70: [1, 69, 7, 110, 10],\n 71: [115, 36, 120, 3, 14],\n 72: [190, 184, 207, 106, 27],\n 282: [27, 177, 190, 72, 207],\n 73: [60, 3, 15, 65, 34],\n 197: [28, 15, 32, 10, 13],\n 74: [3, 29, 34, 115, 60],\n 122: [3, 7, 14, 69, 65],\n 75: [29, 110, 36, 65, 34],\n 76: [148, 149, 185, 97, 113],\n 175: [97, 113, 185, 149, 204],\n 77: [23, 27, 29, 18, 1],\n 85: [3, 36, 15, 107, 34],\n 86: [14, 3, 7, 65, 60],\n 123: [27, 60, 69, 232, 94],\n 79: [132, 88, 129, 116, 219],\n 214: [80, 88, 119, 116, 50],\n 108: [32, 119, 15, 28, 214],\n 81: [102, 98, 21, 227, 43],\n 82: [109, 98, 227, 81, 43],\n 83: [100, 185, 97, 175, 53],\n 137: [65, 3, 69, 7, 35],\n 154: [69, 35, 137, 89, 14],\n 87: [204, 148, 100, 113, 112],\n 97: [185, 100, 113, 53, 148],\n 88: [119, 116, 80, 144, 32],\n 208: [219, 50, 116, 214, 178],\n 90: [29, 110, 14, 65, 60],\n 152: [29, 69, 23, 110, 36],\n 96: [115, 15, 110, 3, 14],\n 92: [7, 60, 110, 115, 69],\n 104: [92, 42, 115, 7, 110],\n 93: [332, 166, 85, 113, 14],\n 291: [315, 326, 116, 41, 314],\n 102: [81, 21, 67, 98, 227],\n 111: [1, 23, 135, 29, 107],\n 94: [232, 189, 15, 55, 47],\n 193: [3, 69, 65, 60, 27],\n 98: [81, 227, 21, 210, 43],\n 99: [113, 175, 204, 185, 83],\n 161: [114, 204, 97, 148, 293],\n 100: [97, 185, 53, 204, 149],\n 149: [148, 185, 175, 97, 113],\n 101: [29, 14, 115, 60, 1],\n 103: [7, 110, 14, 69, 3],\n 105: [14, 29, 60, 34, 1],\n 106: [3, 34, 65, 36, 60],\n 207: [215, 27, 177, 106, 190],\n 112: [204, 113, 148, 53, 100],\n 113: [204, 97, 175, 148, 185],\n 114: [161, 148, 211, 204, 202],\n 299: [202, 161, 87, 211, 204],\n 141: [56, 69, 60, 15, 22],\n 277: [69, 3, 14, 7, 34],\n 116: [119, 80, 144, 178, 50],\n 117: [14, 34, 23, 31, 29],\n 120: [34, 3, 115, 36, 14],\n 118: [60, 14, 8, 10, 3],\n 167: [6, 80, 214, 132, 183],\n 121: [14, 34, 3, 36, 29],\n 238: [17, 179, 231, 229, 230],\n 182: [189, 92, 94, 27, 251],\n 245: [249, 96, 74, 0, 283],\n 127: [34, 60, 7, 156, 27],\n 128: [81, 98, 43, 227, 39],\n 129: [219, 144, 119, 116, 132],\n 130: [185, 52, 283, 179, 312],\n 329: [317, 308, 24, 204, 254],\n 237: [69, 78, 65, 20, 8],\n 144: [116, 119, 219, 80, 88],\n 289: [115, 44, 109, 107, 36],\n 227: [81, 98, 21, 102, 109],\n 172: [3, 34, 110, 1, 107],\n 136: [3, 65, 14, 15, 109],\n 310: [85, 107, 142, 135, 91],\n 259: [10, 29, 1, 140, 44],\n 171: [109, 3, 69, 34, 60],\n 138: [107, 3, 34, 36, 15],\n 201: [34, 120, 14, 110, 60],\n 139: [116, 119, 178, 32, 50],\n 226: [1, 23, 3, 90, 109],\n 159: [15, 60, 91, 3, 29],\n 143: [81, 130, 155, 282, 95],\n 304: [110, 25, 236, 331, 63],\n 146: [158, 258, 88, 239, 247],\n 292: [87, 149, 17, 281, 100],\n 147: [248, 107, 50, 290, 122],\n 330: [261, 315, 294, 230, 258],\n 268: [96, 125, 94, 189, 55],\n 198: [113, 204, 97, 53, 175],\n 210: [81, 43, 98, 21, 102],\n 151: [258, 229, 179, 17, 217],\n 196: [148, 51, 114, 87, 100],\n 249: [245, 115, 74, 0, 7],\n 263: [60, 109, 36, 78, 29],\n 155: [175, 198, 113, 97, 204],\n 158: [161, 97, 51, 185, 148],\n 160: [23, 109, 18, 14, 110],\n 162: [218, 174, 169, 61, 273],\n 279: [14, 69, 65, 34, 8],\n 163: [35, 7, 89, 3, 60],\n 164: [144, 88, 60, 119, 32],\n 165: [15, 107, 109, 34, 159],\n 166: [332, 93, 275, 25, 240],\n 168: [149, 112, 239, 161, 53],\n 169: [187, 218, 273, 61, 162],\n 218: [273, 162, 61, 169, 46],\n 170: [192, 199, 313, 216, 288],\n 288: [313, 170, 216, 318, 199],\n 173: [104, 115, 110, 7, 42],\n 187: [169, 218, 162, 174, 46],\n 176: [69, 3, 60, 14, 31],\n 177: [27, 282, 215, 84, 207],\n 178: [116, 119, 80, 32, 50],\n 179: [230, 17, 200, 217, 229],\n 180: [230, 179, 17, 258, 151],\n 258: [229, 179, 151, 17, 238],\n 224: [60, 1, 36, 14, 65],\n 184: [72, 190, 88, 135, 27],\n 248: [144, 214, 80, 6, 79],\n 186: [110, 3, 7, 107, 34],\n 253: [110, 107, 3, 7, 120],\n 276: [273, 61, 218, 169, 174],\n 234: [217, 17, 200, 238, 230],\n 219: [116, 144, 80, 132, 119],\n 189: [115, 60, 55, 110, 92],\n 190: [72, 106, 207, 27, 184],\n 191: [7, 60, 69, 65, 115],\n 192: [199, 170, 288, 313, 318],\n 194: [109, 159, 15, 91, 105],\n 195: [27, 207, 215, 131, 190],\n 260: [72, 135, 190, 27, 184],\n 211: [114, 204, 112, 202, 161],\n 230: [179, 17, 217, 200, 238],\n 203: [0, 120, 90, 3, 36],\n 199: [192, 170, 318, 313, 288],\n 200: [17, 217, 179, 230, 234],\n 312: [170, 192, 199, 283, 179],\n 202: [114, 161, 299, 211, 112],\n 204: [148, 113, 97, 100, 149],\n 205: [60, 1, 95, 63, 210],\n 206: [228, 265, 275, 271, 287],\n 228: [265, 206, 271, 275, 287],\n 324: [260, 207, 190, 195, 72],\n 301: [18, 14, 107, 29, 60],\n 264: [171, 135, 233, 84, 10],\n 233: [60, 91, 115, 109, 69],\n 274: [105, 41, 56, 1, 29],\n 209: [27, 60, 68, 84, 29],\n 212: [14, 86, 35, 34, 89],\n 213: [78, 8, 15, 165, 34],\n 257: [78, 14, 8, 89, 34],\n 293: [161, 114, 299, 202, 87],\n 215: [27, 177, 207, 282, 10],\n 216: [313, 288, 170, 192, 318],\n 267: [199, 192, 319, 264, 312],\n 217: [230, 179, 200, 17, 238],\n 241: [179, 230, 200, 188, 238],\n 254: [162, 169, 61, 174, 46],\n 247: [27, 110, 23, 3, 30],\n 220: [36, 91, 56, 1, 115],\n 318: [199, 288, 313, 192, 170],\n 221: [204, 87, 149, 168, 114],\n 222: [115, 1, 56, 14, 7],\n 316: [15, 285, 197, 18, 329],\n 298: [238, 230, 188, 217, 229],\n 229: [238, 179, 17, 230, 217],\n 231: [238, 179, 230, 229, 17],\n 251: [115, 60, 63, 104, 96],\n 235: [120, 14, 69, 121, 7],\n 236: [148, 149, 290, 204, 185],\n 290: [49, 149, 161, 53, 99],\n 295: [122, 191, 137, 22, 85],\n 239: [51, 97, 148, 100, 161],\n 240: [65, 3, 36, 171, 85],\n 313: [288, 199, 318, 192, 170],\n 242: [132, 157, 307, 161, 144],\n 244: [45, 14, 36, 11, 7],\n 278: [292, 186, 36, 286, 58],\n 246: [328, 22, 276, 78, 45],\n 250: [261, 136, 245, 135, 306],\n 327: [276, 132, 300, 157, 214],\n 307: [185, 113, 161, 175, 149],\n 328: [246, 289, 232, 228, 288],\n 252: [18, 24, 86, 134, 301],\n 273: [218, 61, 276, 169, 46],\n 255: [206, 275, 228, 271, 287],\n 271: [228, 287, 265, 275, 206],\n 256: [171, 135, 233, 172, 84],\n 261: [69, 20, 237, 120, 78],\n 266: [68, 58, 27, 247, 163],\n 262: [128, 224, 269, 204, 21],\n 305: [26, 2, 24, 27, 87],\n 265: [228, 271, 275, 206, 287],\n 269: [169, 64, 199, 112, 52],\n 321: [94, 233, 328, 145, 109],\n 270: [248, 131, 88, 331, 311],\n 311: [88, 270, 331, 184, 248],\n 272: [95, 294, 83, 52, 109],\n 320: [15, 28, 47, 6, 80],\n 275: [265, 206, 228, 255, 271],\n 285: [15, 197, 316, 18, 41],\n 303: [240, 36, 65, 3, 137],\n 281: [87, 149, 17, 100, 292],\n 284: [15, 159, 56, 302, 88],\n 283: [179, 312, 309, 245, 244],\n 286: [34, 10, 78, 14, 131],\n 287: [271, 206, 228, 275, 265],\n 319: [49, 112, 149, 239, 161],\n 294: [85, 107, 108, 0, 3],\n 296: [265, 275, 228, 206, 147],\n 297: [236, 308, 195, 221, 302],\n 300: [65, 268, 192, 311, 129],\n 302: [15, 88, 5, 213, 284],\n 332: [93, 166, 217, 90, 247],\n 306: [84, 171, 135, 233, 172],\n 308: [317, 24, 204, 329, 5],\n 309: [283, 179, 312, 245, 244],\n 323: [148, 322, 79, 237, 13],\n 326: [315, 291, 24, 45, 217],\n 314: [106, 110, 176, 194, 204],\n 325: [10, 74, 3, 15, 9],\n 315: [326, 291, 209, 234, 15],\n 331: [88, 270, 311, 184, 28],\n 322: [238, 230, 217, 229, 231]}"
     },
     "execution_count": 25,
     "metadata": {},
     "output_type": "execute_result"
    }
   ],
   "source": [
    "neighbor_dict"
   ],
   "metadata": {
    "collapsed": false,
    "ExecuteTime": {
     "end_time": "2023-12-09T18:39:57.008816600Z",
     "start_time": "2023-12-09T18:39:56.959115Z"
    }
   },
   "id": "70eb0ee1c934837b"
  },
  {
   "cell_type": "code",
   "execution_count": 7,
   "outputs": [],
   "source": [
    "predictions = []\n",
    "for (x1, x2), y_ in zip(X,y):\n",
    "    if y_ == 1:\n",
    "        if x1 in neighbor_dict[x2] or x2 in neighbor_dict[x1]:\n",
    "            predictions.append(1)\n",
    "        else:\n",
    "            predictions.append(0)\n",
    "    else:\n",
    "        if x1 in neighbor_dict[x2] or x2 in neighbor_dict[x1]:\n",
    "            predictions.append(0)\n",
    "        else:\n",
    "            predictions.append(1)\n",
    "            \n",
    "    "
   ],
   "metadata": {
    "collapsed": false,
    "ExecuteTime": {
     "end_time": "2023-12-09T17:53:59.180075700Z",
     "start_time": "2023-12-09T17:53:59.159332Z"
    }
   },
   "id": "2d2959bc94a541a6"
  },
  {
   "cell_type": "code",
   "execution_count": 8,
   "outputs": [],
   "source": [
    "predictions = np.array(predictions)"
   ],
   "metadata": {
    "collapsed": false,
    "ExecuteTime": {
     "end_time": "2023-12-09T17:54:01.632337100Z",
     "start_time": "2023-12-09T17:54:01.608038Z"
    }
   },
   "id": "d6b7024c472489b4"
  },
  {
   "cell_type": "markdown",
   "source": [
    "# Evaluation"
   ],
   "metadata": {
    "collapsed": false
   },
   "id": "7be791295dcdbb91"
  },
  {
   "cell_type": "code",
   "execution_count": 9,
   "outputs": [],
   "source": [
    "from sklearn.metrics import accuracy_score\n",
    "\n",
    "accuracy = accuracy_score(y, predictions)"
   ],
   "metadata": {
    "collapsed": false,
    "ExecuteTime": {
     "end_time": "2023-12-09T17:54:03.763865Z",
     "start_time": "2023-12-09T17:54:03.751910Z"
    }
   },
   "id": "ab36dff1cb8d6a16"
  },
  {
   "cell_type": "code",
   "execution_count": 10,
   "outputs": [
    {
     "data": {
      "text/plain": "0.18290258449304175"
     },
     "execution_count": 10,
     "metadata": {},
     "output_type": "execute_result"
    }
   ],
   "source": [
    "accuracy"
   ],
   "metadata": {
    "collapsed": false,
    "ExecuteTime": {
     "end_time": "2023-12-09T17:54:05.630649600Z",
     "start_time": "2023-12-09T17:54:05.615117500Z"
    }
   },
   "id": "7c76c623f2997d25"
  },
  {
   "cell_type": "code",
   "execution_count": 11,
   "outputs": [],
   "source": [
    "from sklearn.metrics import confusion_matrix\n",
    "\n",
    "# Calculate the confusion matrix\n",
    "cm = confusion_matrix(y, predictions)"
   ],
   "metadata": {
    "collapsed": false,
    "ExecuteTime": {
     "end_time": "2023-12-09T17:54:08.096908700Z",
     "start_time": "2023-12-09T17:54:08.073683700Z"
    }
   },
   "id": "d52a9370df3997d8"
  },
  {
   "cell_type": "code",
   "execution_count": 12,
   "outputs": [
    {
     "data": {
      "text/plain": "array([[ 11, 492],\n       [330, 173]])"
     },
     "execution_count": 12,
     "metadata": {},
     "output_type": "execute_result"
    }
   ],
   "source": [
    "cm"
   ],
   "metadata": {
    "collapsed": false,
    "ExecuteTime": {
     "end_time": "2023-12-09T17:54:09.706338600Z",
     "start_time": "2023-12-09T17:54:09.686324900Z"
    }
   },
   "id": "ccea27563767500e"
  },
  {
   "cell_type": "code",
   "execution_count": 13,
   "outputs": [
    {
     "data": {
      "text/plain": "<sklearn.metrics._plot.confusion_matrix.ConfusionMatrixDisplay at 0x7f994aace2b0>"
     },
     "execution_count": 13,
     "metadata": {},
     "output_type": "execute_result"
    },
    {
     "data": {
      "text/plain": "<Figure size 640x480 with 2 Axes>",
      "image/png": "[encoded data removed]"
     },
     "metadata": {},
     "output_type": "display_data"
    }
   ],
   "source": [
    "from sklearn.metrics import ConfusionMatrixDisplay\n",
    "\n",
    "ConfusionMatrixDisplay.from_predictions(y, predictions)"
   ],
   "metadata": {
    "collapsed": false,
    "ExecuteTime": {
     "end_time": "2023-12-09T17:54:16.794765700Z",
     "start_time": "2023-12-09T17:54:16.593857600Z"
    }
   },
   "id": "d5521e7932bf983f"
  },
  {
   "cell_type": "code",
   "execution_count": 17,
   "outputs": [
    {
     "data": {
      "text/plain": "<sklearn.metrics._plot.roc_curve.RocCurveDisplay at 0x7f994b5bc460>"
     },
     "execution_count": 17,
     "metadata": {},
     "output_type": "execute_result"
    },
    {
     "data": {
      "text/plain": "<Figure size 640x480 with 1 Axes>",
      "image/png": "[encoded data removed]"
     },
     "metadata": {},
     "output_type": "display_data"
    }
   ],
   "source": [
    "from sklearn.metrics import RocCurveDisplay\n",
    "\n",
    "RocCurveDisplay.from_predictions(y, predictions)"
   ],
   "metadata": {
    "collapsed": false,
    "ExecuteTime": {
     "end_time": "2023-12-09T18:17:09.921404100Z",
     "start_time": "2023-12-09T18:17:09.750341300Z"
    }
   },
   "id": "f8169df147711b63"
  },
  {
   "cell_type": "code",
   "execution_count": 15,
   "outputs": [
    {
     "name": "stdout",
     "output_type": "stream",
     "text": [
      "              precision    recall  f1-score   support\n",
      "\n",
      "           0       0.03      0.02      0.03       503\n",
      "           1       0.26      0.34      0.30       503\n",
      "\n",
      "    accuracy                           0.18      1006\n",
      "   macro avg       0.15      0.18      0.16      1006\n",
      "weighted avg       0.15      0.18      0.16      1006\n"
     ]
    }
   ],
   "source": [
    "from sklearn.metrics import classification_report\n",
    "\n",
    "print(classification_report(y, predictions))"
   ],
   "metadata": {
    "collapsed": false,
    "ExecuteTime": {
     "end_time": "2023-12-09T17:55:40.334905100Z",
     "start_time": "2023-12-09T17:55:40.322792Z"
    }
   },
   "id": "dc9333ab88cde71a"
  }
 ],
 "metadata": {
  "kernelspec": {
   "display_name": "Python 3",
   "language": "python",
   "name": "python3"
  },
  "language_info": {
   "codemirror_mode": {
    "name": "ipython",
    "version": 2
   },
   "file_extension": ".py",
   "mimetype": "text/x-python",
   "name": "python",
   "nbconvert_exporter": "python",
   "pygments_lexer": "ipython2",
   "version": "2.7.6"
  }
 },
 "nbformat": 4,
 "nbformat_minor": 5
}
