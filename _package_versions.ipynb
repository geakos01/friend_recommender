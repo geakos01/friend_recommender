{
 "cells": [
  {
   "cell_type": "code",
   "execution_count": null,
   "metadata": {},
   "outputs": [],
   "source": [
    "pip install stellargraph[demos,igraph]"
   ]
  },
  {
   "cell_type": "code",
   "execution_count": null,
   "metadata": {},
   "outputs": [],
   "source": [
    "pip install numpy"
   ]
  },
  {
   "cell_type": "code",
   "execution_count": null,
   "metadata": {},
   "outputs": [],
   "source": [
    "pip install pandas"
   ]
  },
  {
   "cell_type": "code",
   "execution_count": null,
   "metadata": {},
   "outputs": [],
   "source": [
    "pip install scikit-learn"
   ]
  },
  {
   "cell_type": "code",
   "execution_count": null,
   "metadata": {},
   "outputs": [],
   "source": [
    "pip install matplotlib"
   ]
  },
  {
   "cell_type": "code",
   "execution_count": null,
   "metadata": {},
   "outputs": [],
   "source": [
    "pip install networkx"
   ]
  },
  {
   "cell_type": "code",
   "execution_count": null,
   "metadata": {},
   "outputs": [],
   "source": [
    "pip install plotly"
   ]
  },
  {
   "cell_type": "code",
   "execution_count": null,
   "metadata": {},
   "outputs": [],
   "source": [
    "pip install stellargraph.data"
   ]
  },
  {
   "cell_type": "code",
   "execution_count": null,
   "metadata": {},
   "outputs": [],
   "source": [
    "pip install gensim"
   ]
  },
  {
   "cell_type": "code",
   "execution_count": null,
   "metadata": {},
   "outputs": [],
   "source": [
    "pip install chardet"
   ]
  },
  {
   "cell_type": "code",
   "execution_count": 1,
   "metadata": {},
   "outputs": [
    {
     "name": "stdout",
     "output_type": "stream",
     "text": [
      "absl-py==2.0.0\n",
      "anyio==4.0.0\n",
      "argon2-cffi==23.1.0\n",
      "argon2-cffi-bindings==21.2.0\n",
      "arrow==1.3.0\n",
      "asttokens @ file:///home/conda/feedstock_root/build_artifacts/asttokens_1694046349000/work\n",
      "astunparse==1.6.3\n",
      "async-lru==2.0.4\n",
      "attrs==23.1.0\n",
      "Babel==2.13.0\n",
      "backcall @ file:///home/conda/feedstock_root/build_artifacts/backcall_1592338393461/work\n",
      "backports.functools-lru-cache @ file:///home/conda/feedstock_root/build_artifacts/backports.functools_lru_cache_1687772187254/work\n",
      "beautifulsoup4==4.12.2\n",
      "bleach==6.1.0\n",
      "cachetools==5.3.1\n",
      "certifi==2023.7.22\n",
      "cffi==1.16.0\n",
      "chardet==5.2.0\n",
      "charset-normalizer==3.3.0\n",
      "colorama @ file:///home/conda/feedstock_root/build_artifacts/colorama_1666700638685/work\n",
      "comm @ file:///home/conda/feedstock_root/build_artifacts/comm_1691044910542/work\n",
      "contourpy==1.1.1\n",
      "cycler==0.12.1\n",
      "debugpy @ file:///C:/b/abs_c0y1fjipt2/croot/debugpy_1690906864587/work\n",
      "decorator @ file:///home/conda/feedstock_root/build_artifacts/decorator_1641555617451/work\n",
      "defusedxml==0.7.1\n",
      "exceptiongroup==1.1.3\n",
      "executing @ file:///home/conda/feedstock_root/build_artifacts/executing_1667317341051/work\n",
      "fastjsonschema==2.18.1\n",
      "flatbuffers==23.5.26\n",
      "fonttools==4.43.1\n",
      "fqdn==1.5.1\n",
      "gast==0.4.0\n",
      "gensim==4.3.2\n",
      "google-auth==2.23.3\n",
      "google-auth-oauthlib==1.0.0\n",
      "google-pasta==0.2.0\n",
      "grpcio==1.59.0\n",
      "h5py==3.10.0\n",
      "idna==3.4\n",
      "igraph==0.11.2\n",
      "importlib-metadata @ file:///home/conda/feedstock_root/build_artifacts/importlib-metadata_1688754491823/work\n",
      "importlib-resources==6.1.0\n",
      "ipykernel @ file:///D:/bld/ipykernel_1693880431923/work\n",
      "ipython @ file:///D:/bld/ipython_1680185618122/work\n",
      "ipython-genutils==0.2.0\n",
      "ipywidgets==8.1.1\n",
      "isodate==0.6.1\n",
      "isoduration==20.11.0\n",
      "jedi @ file:///home/conda/feedstock_root/build_artifacts/jedi_1696326070614/work\n",
      "Jinja2==3.1.2\n",
      "joblib==1.3.2\n",
      "json5==0.9.14\n",
      "jsonpointer==2.4\n",
      "jsonschema==4.19.1\n",
      "jsonschema-specifications==2023.7.1\n",
      "jupyter==1.0.0\n",
      "jupyter-console==6.6.3\n",
      "jupyter-events==0.8.0\n",
      "jupyter-lsp==2.2.0\n",
      "jupyter_client @ file:///home/conda/feedstock_root/build_artifacts/jupyter_client_1697036793436/work\n",
      "jupyter_core @ file:///D:/bld/jupyter_core_1696972407090/work\n",
      "jupyter_server==2.8.0\n",
      "jupyter_server_terminals==0.4.4\n",
      "jupyterlab==4.0.7\n",
      "jupyterlab-pygments==0.2.2\n",
      "jupyterlab-widgets==3.0.9\n",
      "jupyterlab_server==2.25.0\n",
      "keras==2.13.1\n",
      "kiwisolver==1.4.5\n",
      "libclang==16.0.6\n",
      "llvmlite==0.41.1\n",
      "Markdown==3.5\n",
      "MarkupSafe==2.1.3\n",
      "matplotlib==3.7.3\n",
      "matplotlib-inline @ file:///home/conda/feedstock_root/build_artifacts/matplotlib-inline_1660814786464/work\n",
      "mistune==3.0.2\n",
      "mplleaflet==0.0.5\n",
      "nbclient==0.8.0\n",
      "nbconvert==7.9.2\n",
      "nbformat==5.9.2\n",
      "nest-asyncio @ file:///home/conda/feedstock_root/build_artifacts/nest-asyncio_1697083700168/work\n",
      "networkx==3.1\n",
      "notebook==7.0.6\n",
      "notebook_shim==0.2.3\n",
      "numba==0.58.1\n",
      "numpy==1.24.3\n",
      "oauthlib==3.2.2\n",
      "opt-einsum==3.3.0\n",
      "overrides==7.4.0\n",
      "packaging @ file:///home/conda/feedstock_root/build_artifacts/packaging_1696202382185/work\n",
      "pandas==2.0.3\n",
      "pandocfilters==1.5.0\n",
      "parso @ file:///home/conda/feedstock_root/build_artifacts/parso_1638334955874/work\n",
      "pickleshare @ file:///home/conda/feedstock_root/build_artifacts/pickleshare_1602536217715/work\n",
      "Pillow==10.1.0\n",
      "pkgutil_resolve_name==1.3.10\n",
      "platformdirs @ file:///home/conda/feedstock_root/build_artifacts/platformdirs_1696272223550/work\n",
      "plotly==5.17.0\n",
      "prometheus-client==0.17.1\n",
      "prompt-toolkit @ file:///home/conda/feedstock_root/build_artifacts/prompt-toolkit_1688565951714/work\n",
      "protobuf==4.24.4\n",
      "psutil @ file:///C:/Windows/Temp/abs_b2c2fd7f-9fd5-4756-95ea-8aed74d0039flsd9qufz/croots/recipe/psutil_1656431277748/work\n",
      "pure-eval @ file:///home/conda/feedstock_root/build_artifacts/pure_eval_1642875951954/work\n",
      "pyasn1==0.5.0\n",
      "pyasn1-modules==0.3.0\n",
      "pycparser==2.21\n",
      "Pygments @ file:///home/conda/feedstock_root/build_artifacts/pygments_1691408637400/work\n",
      "pyparsing==3.1.1\n",
      "python-dateutil @ file:///home/conda/feedstock_root/build_artifacts/python-dateutil_1626286286081/work\n",
      "python-igraph==0.11.2\n",
      "python-json-logger==2.0.7\n",
      "pytz==2023.3.post1\n",
      "pywin32==305.1\n",
      "pywinpty==2.0.12\n",
      "PyYAML==6.0.1\n",
      "pyzmq==25.1.1\n",
      "qtconsole==5.4.4\n",
      "QtPy==2.4.0\n",
      "rdflib==7.0.0\n",
      "referencing==0.30.2\n",
      "requests==2.31.0\n",
      "requests-oauthlib==1.3.1\n",
      "rfc3339-validator==0.1.4\n",
      "rfc3986-validator==0.1.1\n",
      "rpds-py==0.10.6\n",
      "rsa==4.9\n",
      "scikit-learn==1.3.1\n",
      "scipy==1.10.1\n",
      "seaborn==0.13.0\n",
      "Send2Trash==1.8.2\n",
      "six @ file:///home/conda/feedstock_root/build_artifacts/six_1620240208055/work\n",
      "smart-open==6.4.0\n",
      "sniffio==1.3.0\n",
      "soupsieve==2.5\n",
      "stack-data @ file:///home/conda/feedstock_root/build_artifacts/stack_data_1669632077133/work\n",
      "stellargraph==1.2.1\n",
      "tenacity==8.2.3\n",
      "tensorboard==2.13.0\n",
      "tensorboard-data-server==0.7.1\n",
      "tensorflow==2.13.0\n",
      "tensorflow-estimator==2.13.0\n",
      "tensorflow-intel==2.13.0\n",
      "tensorflow-io-gcs-filesystem==0.31.0\n",
      "termcolor==2.3.0\n",
      "terminado==0.17.1\n",
      "texttable==1.7.0\n",
      "threadpoolctl==3.2.0\n",
      "tinycss2==1.2.1\n",
      "tomli==2.0.1\n",
      "tornado @ file:///D:/bld/tornado_1656937958156/work\n",
      "traitlets @ file:///home/conda/feedstock_root/build_artifacts/traitlets_1696377679271/work\n",
      "types-python-dateutil==2.8.19.14\n",
      "typing_extensions==4.5.0\n",
      "tzdata==2023.3\n",
      "uri-template==1.3.0\n",
      "urllib3==2.0.7\n",
      "wcwidth @ file:///home/conda/feedstock_root/build_artifacts/wcwidth_1696255154857/work\n",
      "webcolors==1.13\n",
      "webencodings==0.5.1\n",
      "websocket-client==1.6.4\n",
      "Werkzeug==3.0.0\n",
      "widgetsnbextension==4.0.9\n",
      "wrapt==1.15.0\n",
      "zipp @ file:///home/conda/feedstock_root/build_artifacts/zipp_1695255097490/work\n",
      "Note: you may need to restart the kernel to use updated packages.\n"
     ]
    }
   ],
   "source": [
    "pip freeze"
   ]
  }
 ],
 "metadata": {
  "kernelspec": {
   "display_name": "python_3-8-18",
   "language": "python",
   "name": "python3"
  },
  "language_info": {
   "codemirror_mode": {
    "name": "ipython",
    "version": 3
   },
   "file_extension": ".py",
   "mimetype": "text/x-python",
   "name": "python",
   "nbconvert_exporter": "python",
   "pygments_lexer": "ipython3",
   "version": "3.8.18"
  }
 },
 "nbformat": 4,
 "nbformat_minor": 2
}
